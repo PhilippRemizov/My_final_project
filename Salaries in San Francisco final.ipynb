{
 "cells": [
  {
   "cell_type": "code",
   "execution_count": 1,
   "metadata": {},
   "outputs": [],
   "source": [
    "import pandas as pd\n",
    "import numpy as np"
   ]
  },
  {
   "cell_type": "markdown",
   "metadata": {},
   "source": [
    "Для начала загрузим данные"
   ]
  },
  {
   "cell_type": "code",
   "execution_count": 2,
   "metadata": {
    "scrolled": true
   },
   "outputs": [
    {
     "name": "stderr",
     "output_type": "stream",
     "text": [
      "C:\\ProgramData\\Anaconda3\\lib\\site-packages\\IPython\\core\\interactiveshell.py:3146: DtypeWarning: Columns (3,4,5,6,12) have mixed types.Specify dtype option on import or set low_memory=False.\n",
      "  has_raised = await self.run_ast_nodes(code_ast.body, cell_name,\n"
     ]
    }
   ],
   "source": [
    "df = pd.read_csv('Salaries.csv')"
   ]
  },
  {
   "cell_type": "markdown",
   "metadata": {},
   "source": [
    "Теперь поглядим на них и оценим"
   ]
  },
  {
   "cell_type": "code",
   "execution_count": 3,
   "metadata": {
    "scrolled": false
   },
   "outputs": [
    {
     "data": {
      "text/html": [
       "<div>\n",
       "<style scoped>\n",
       "    .dataframe tbody tr th:only-of-type {\n",
       "        vertical-align: middle;\n",
       "    }\n",
       "\n",
       "    .dataframe tbody tr th {\n",
       "        vertical-align: top;\n",
       "    }\n",
       "\n",
       "    .dataframe thead th {\n",
       "        text-align: right;\n",
       "    }\n",
       "</style>\n",
       "<table border=\"1\" class=\"dataframe\">\n",
       "  <thead>\n",
       "    <tr style=\"text-align: right;\">\n",
       "      <th></th>\n",
       "      <th>Id</th>\n",
       "      <th>EmployeeName</th>\n",
       "      <th>JobTitle</th>\n",
       "      <th>BasePay</th>\n",
       "      <th>OvertimePay</th>\n",
       "      <th>OtherPay</th>\n",
       "      <th>Benefits</th>\n",
       "      <th>TotalPay</th>\n",
       "      <th>TotalPayBenefits</th>\n",
       "      <th>Year</th>\n",
       "      <th>Notes</th>\n",
       "      <th>Agency</th>\n",
       "      <th>Status</th>\n",
       "    </tr>\n",
       "  </thead>\n",
       "  <tbody>\n",
       "    <tr>\n",
       "      <th>36159</th>\n",
       "      <td>36160</td>\n",
       "      <td>Gary Altenberg</td>\n",
       "      <td>Lieutenant, Fire Suppression</td>\n",
       "      <td>128809</td>\n",
       "      <td>220909</td>\n",
       "      <td>13126.3</td>\n",
       "      <td>44430.1</td>\n",
       "      <td>362844.66</td>\n",
       "      <td>407274.78</td>\n",
       "      <td>2012</td>\n",
       "      <td>NaN</td>\n",
       "      <td>San Francisco</td>\n",
       "      <td>NaN</td>\n",
       "    </tr>\n",
       "    <tr>\n",
       "      <th>36160</th>\n",
       "      <td>36161</td>\n",
       "      <td>Gregory Suhr</td>\n",
       "      <td>Chief of Police</td>\n",
       "      <td>302578</td>\n",
       "      <td>0</td>\n",
       "      <td>18974.1</td>\n",
       "      <td>69810.2</td>\n",
       "      <td>321552.11</td>\n",
       "      <td>391362.30</td>\n",
       "      <td>2012</td>\n",
       "      <td>NaN</td>\n",
       "      <td>San Francisco</td>\n",
       "      <td>NaN</td>\n",
       "    </tr>\n",
       "    <tr>\n",
       "      <th>36161</th>\n",
       "      <td>36162</td>\n",
       "      <td>Khoa Trinh</td>\n",
       "      <td>Electronic Maintenance Tech</td>\n",
       "      <td>111921</td>\n",
       "      <td>146415</td>\n",
       "      <td>78057.4</td>\n",
       "      <td>53102.3</td>\n",
       "      <td>336393.73</td>\n",
       "      <td>389496.02</td>\n",
       "      <td>2012</td>\n",
       "      <td>NaN</td>\n",
       "      <td>San Francisco</td>\n",
       "      <td>NaN</td>\n",
       "    </tr>\n",
       "    <tr>\n",
       "      <th>36162</th>\n",
       "      <td>36163</td>\n",
       "      <td>Joanne Hayes-White</td>\n",
       "      <td>Chief, Fire Department</td>\n",
       "      <td>296943</td>\n",
       "      <td>0</td>\n",
       "      <td>17816.6</td>\n",
       "      <td>72047.9</td>\n",
       "      <td>314759.60</td>\n",
       "      <td>386807.48</td>\n",
       "      <td>2012</td>\n",
       "      <td>NaN</td>\n",
       "      <td>San Francisco</td>\n",
       "      <td>NaN</td>\n",
       "    </tr>\n",
       "    <tr>\n",
       "      <th>36163</th>\n",
       "      <td>36164</td>\n",
       "      <td>Frederick Binkley</td>\n",
       "      <td>EMT/Paramedic/Firefighter</td>\n",
       "      <td>126863</td>\n",
       "      <td>192424</td>\n",
       "      <td>17917.2</td>\n",
       "      <td>44438.2</td>\n",
       "      <td>337204.86</td>\n",
       "      <td>381643.11</td>\n",
       "      <td>2012</td>\n",
       "      <td>NaN</td>\n",
       "      <td>San Francisco</td>\n",
       "      <td>NaN</td>\n",
       "    </tr>\n",
       "    <tr>\n",
       "      <th>...</th>\n",
       "      <td>...</td>\n",
       "      <td>...</td>\n",
       "      <td>...</td>\n",
       "      <td>...</td>\n",
       "      <td>...</td>\n",
       "      <td>...</td>\n",
       "      <td>...</td>\n",
       "      <td>...</td>\n",
       "      <td>...</td>\n",
       "      <td>...</td>\n",
       "      <td>...</td>\n",
       "      <td>...</td>\n",
       "      <td>...</td>\n",
       "    </tr>\n",
       "    <tr>\n",
       "      <th>148617</th>\n",
       "      <td>148618</td>\n",
       "      <td>Charles F Williams Iii</td>\n",
       "      <td>Pool Lifeguard</td>\n",
       "      <td>17.26</td>\n",
       "      <td>0.00</td>\n",
       "      <td>0.00</td>\n",
       "      <td>4.04</td>\n",
       "      <td>17.26</td>\n",
       "      <td>21.30</td>\n",
       "      <td>2014</td>\n",
       "      <td>NaN</td>\n",
       "      <td>San Francisco</td>\n",
       "      <td>PT</td>\n",
       "    </tr>\n",
       "    <tr>\n",
       "      <th>148619</th>\n",
       "      <td>148620</td>\n",
       "      <td>Ian V Cameron</td>\n",
       "      <td>IS Program Analyst-Assistant</td>\n",
       "      <td>6.04</td>\n",
       "      <td>0.00</td>\n",
       "      <td>10.05</td>\n",
       "      <td>2.30</td>\n",
       "      <td>16.09</td>\n",
       "      <td>18.39</td>\n",
       "      <td>2014</td>\n",
       "      <td>NaN</td>\n",
       "      <td>San Francisco</td>\n",
       "      <td>PT</td>\n",
       "    </tr>\n",
       "    <tr>\n",
       "      <th>148620</th>\n",
       "      <td>148621</td>\n",
       "      <td>India C Sabater</td>\n",
       "      <td>Recreation Leader</td>\n",
       "      <td>15.50</td>\n",
       "      <td>0.00</td>\n",
       "      <td>0.00</td>\n",
       "      <td>0.16</td>\n",
       "      <td>15.50</td>\n",
       "      <td>15.66</td>\n",
       "      <td>2014</td>\n",
       "      <td>NaN</td>\n",
       "      <td>San Francisco</td>\n",
       "      <td>PT</td>\n",
       "    </tr>\n",
       "    <tr>\n",
       "      <th>148623</th>\n",
       "      <td>148624</td>\n",
       "      <td>Deborah B Honig</td>\n",
       "      <td>Attorney (Civil/Criminal)</td>\n",
       "      <td>0.00</td>\n",
       "      <td>0.00</td>\n",
       "      <td>13.35</td>\n",
       "      <td>0.13</td>\n",
       "      <td>13.35</td>\n",
       "      <td>13.48</td>\n",
       "      <td>2014</td>\n",
       "      <td>NaN</td>\n",
       "      <td>San Francisco</td>\n",
       "      <td>PT</td>\n",
       "    </tr>\n",
       "    <tr>\n",
       "      <th>148625</th>\n",
       "      <td>148626</td>\n",
       "      <td>Renato C Gurion</td>\n",
       "      <td>Registered Nurse</td>\n",
       "      <td>0.00</td>\n",
       "      <td>0.00</td>\n",
       "      <td>6.00</td>\n",
       "      <td>1.24</td>\n",
       "      <td>6.00</td>\n",
       "      <td>7.24</td>\n",
       "      <td>2014</td>\n",
       "      <td>NaN</td>\n",
       "      <td>San Francisco</td>\n",
       "      <td>PT</td>\n",
       "    </tr>\n",
       "  </tbody>\n",
       "</table>\n",
       "<p>110757 rows × 13 columns</p>\n",
       "</div>"
      ],
      "text/plain": [
       "            Id            EmployeeName                      JobTitle BasePay  \\\n",
       "36159    36160          Gary Altenberg  Lieutenant, Fire Suppression  128809   \n",
       "36160    36161            Gregory Suhr               Chief of Police  302578   \n",
       "36161    36162              Khoa Trinh   Electronic Maintenance Tech  111921   \n",
       "36162    36163      Joanne Hayes-White        Chief, Fire Department  296943   \n",
       "36163    36164       Frederick Binkley     EMT/Paramedic/Firefighter  126863   \n",
       "...        ...                     ...                           ...     ...   \n",
       "148617  148618  Charles F Williams Iii                Pool Lifeguard   17.26   \n",
       "148619  148620           Ian V Cameron  IS Program Analyst-Assistant    6.04   \n",
       "148620  148621         India C Sabater             Recreation Leader   15.50   \n",
       "148623  148624         Deborah B Honig     Attorney (Civil/Criminal)    0.00   \n",
       "148625  148626         Renato C Gurion              Registered Nurse    0.00   \n",
       "\n",
       "       OvertimePay OtherPay Benefits   TotalPay  TotalPayBenefits  Year  \\\n",
       "36159       220909  13126.3  44430.1  362844.66         407274.78  2012   \n",
       "36160            0  18974.1  69810.2  321552.11         391362.30  2012   \n",
       "36161       146415  78057.4  53102.3  336393.73         389496.02  2012   \n",
       "36162            0  17816.6  72047.9  314759.60         386807.48  2012   \n",
       "36163       192424  17917.2  44438.2  337204.86         381643.11  2012   \n",
       "...            ...      ...      ...        ...               ...   ...   \n",
       "148617        0.00     0.00     4.04      17.26             21.30  2014   \n",
       "148619        0.00    10.05     2.30      16.09             18.39  2014   \n",
       "148620        0.00     0.00     0.16      15.50             15.66  2014   \n",
       "148623        0.00    13.35     0.13      13.35             13.48  2014   \n",
       "148625        0.00     6.00     1.24       6.00              7.24  2014   \n",
       "\n",
       "        Notes         Agency Status  \n",
       "36159     NaN  San Francisco    NaN  \n",
       "36160     NaN  San Francisco    NaN  \n",
       "36161     NaN  San Francisco    NaN  \n",
       "36162     NaN  San Francisco    NaN  \n",
       "36163     NaN  San Francisco    NaN  \n",
       "...       ...            ...    ...  \n",
       "148617    NaN  San Francisco     PT  \n",
       "148619    NaN  San Francisco     PT  \n",
       "148620    NaN  San Francisco     PT  \n",
       "148623    NaN  San Francisco     PT  \n",
       "148625    NaN  San Francisco     PT  \n",
       "\n",
       "[110757 rows x 13 columns]"
      ]
     },
     "execution_count": 3,
     "metadata": {},
     "output_type": "execute_result"
    }
   ],
   "source": [
    "# Тут я их смотрел с разными условиями\n",
    "\n",
    "# df[(df.Id > 10)&(df.Id < 20)]\n",
    "# df[(df.Benefits.notnull())]\n",
    "# df[(df.Benefits.isnull())]\n",
    "# df[(df.Status == 'FT')]\n",
    "# df[(df.BasePay == 0)]\n",
    "# df[(df['Id'] ==2)]\n",
    "# df[((df['TotalPay'] == df['TotalPayBenefits']) & df.Benefits.isnull())]\n",
    "df[(df['TotalPay'] != df['TotalPayBenefits'])]\n",
    "# df[(df['JobTitle'].isnull())]\n",
    "# df[(df['BasePay'].isnull())]\n",
    "# df"
   ]
  },
  {
   "cell_type": "markdown",
   "metadata": {},
   "source": [
    "Посмотрим общую информацию по dataframe"
   ]
  },
  {
   "cell_type": "code",
   "execution_count": 5,
   "metadata": {
    "scrolled": true
   },
   "outputs": [
    {
     "data": {
      "text/html": [
       "<div>\n",
       "<style scoped>\n",
       "    .dataframe tbody tr th:only-of-type {\n",
       "        vertical-align: middle;\n",
       "    }\n",
       "\n",
       "    .dataframe tbody tr th {\n",
       "        vertical-align: top;\n",
       "    }\n",
       "\n",
       "    .dataframe thead th {\n",
       "        text-align: right;\n",
       "    }\n",
       "</style>\n",
       "<table border=\"1\" class=\"dataframe\">\n",
       "  <thead>\n",
       "    <tr style=\"text-align: right;\">\n",
       "      <th></th>\n",
       "      <th>Id</th>\n",
       "      <th>TotalPay</th>\n",
       "      <th>TotalPayBenefits</th>\n",
       "      <th>Year</th>\n",
       "      <th>Notes</th>\n",
       "    </tr>\n",
       "  </thead>\n",
       "  <tbody>\n",
       "    <tr>\n",
       "      <th>count</th>\n",
       "      <td>148654.000000</td>\n",
       "      <td>148654.000000</td>\n",
       "      <td>148654.000000</td>\n",
       "      <td>148654.000000</td>\n",
       "      <td>0.0</td>\n",
       "    </tr>\n",
       "    <tr>\n",
       "      <th>mean</th>\n",
       "      <td>74327.500000</td>\n",
       "      <td>74768.321972</td>\n",
       "      <td>93692.554811</td>\n",
       "      <td>2012.522643</td>\n",
       "      <td>NaN</td>\n",
       "    </tr>\n",
       "    <tr>\n",
       "      <th>std</th>\n",
       "      <td>42912.857795</td>\n",
       "      <td>50517.005274</td>\n",
       "      <td>62793.533483</td>\n",
       "      <td>1.117538</td>\n",
       "      <td>NaN</td>\n",
       "    </tr>\n",
       "    <tr>\n",
       "      <th>min</th>\n",
       "      <td>1.000000</td>\n",
       "      <td>-618.130000</td>\n",
       "      <td>-618.130000</td>\n",
       "      <td>2011.000000</td>\n",
       "      <td>NaN</td>\n",
       "    </tr>\n",
       "    <tr>\n",
       "      <th>25%</th>\n",
       "      <td>37164.250000</td>\n",
       "      <td>36168.995000</td>\n",
       "      <td>44065.650000</td>\n",
       "      <td>2012.000000</td>\n",
       "      <td>NaN</td>\n",
       "    </tr>\n",
       "    <tr>\n",
       "      <th>50%</th>\n",
       "      <td>74327.500000</td>\n",
       "      <td>71426.610000</td>\n",
       "      <td>92404.090000</td>\n",
       "      <td>2013.000000</td>\n",
       "      <td>NaN</td>\n",
       "    </tr>\n",
       "    <tr>\n",
       "      <th>75%</th>\n",
       "      <td>111490.750000</td>\n",
       "      <td>105839.135000</td>\n",
       "      <td>132876.450000</td>\n",
       "      <td>2014.000000</td>\n",
       "      <td>NaN</td>\n",
       "    </tr>\n",
       "    <tr>\n",
       "      <th>max</th>\n",
       "      <td>148654.000000</td>\n",
       "      <td>567595.430000</td>\n",
       "      <td>567595.430000</td>\n",
       "      <td>2014.000000</td>\n",
       "      <td>NaN</td>\n",
       "    </tr>\n",
       "  </tbody>\n",
       "</table>\n",
       "</div>"
      ],
      "text/plain": [
       "                  Id       TotalPay  TotalPayBenefits           Year  Notes\n",
       "count  148654.000000  148654.000000     148654.000000  148654.000000    0.0\n",
       "mean    74327.500000   74768.321972      93692.554811    2012.522643    NaN\n",
       "std     42912.857795   50517.005274      62793.533483       1.117538    NaN\n",
       "min         1.000000    -618.130000       -618.130000    2011.000000    NaN\n",
       "25%     37164.250000   36168.995000      44065.650000    2012.000000    NaN\n",
       "50%     74327.500000   71426.610000      92404.090000    2013.000000    NaN\n",
       "75%    111490.750000  105839.135000     132876.450000    2014.000000    NaN\n",
       "max    148654.000000  567595.430000     567595.430000    2014.000000    NaN"
      ]
     },
     "execution_count": 5,
     "metadata": {},
     "output_type": "execute_result"
    }
   ],
   "source": [
    "df.describe()"
   ]
  },
  {
   "cell_type": "code",
   "execution_count": 6,
   "metadata": {},
   "outputs": [
    {
     "data": {
      "text/plain": [
       "Id                       0\n",
       "EmployeeName             0\n",
       "JobTitle                 0\n",
       "BasePay                605\n",
       "OvertimePay              0\n",
       "OtherPay                 0\n",
       "Benefits             36159\n",
       "TotalPay                 0\n",
       "TotalPayBenefits         0\n",
       "Year                     0\n",
       "Notes               148654\n",
       "Agency                   0\n",
       "Status              110535\n",
       "dtype: int64"
      ]
     },
     "execution_count": 6,
     "metadata": {},
     "output_type": "execute_result"
    }
   ],
   "source": [
    "#Видим много проблем по некоторым столбцам из-за пустых значений\n",
    "df.isna().sum()"
   ]
  },
  {
   "cell_type": "code",
   "execution_count": 7,
   "metadata": {},
   "outputs": [
    {
     "data": {
      "text/plain": [
       "FT    22334\n",
       "PT    15785\n",
       "Name: Status, dtype: int64"
      ]
     },
     "execution_count": 7,
     "metadata": {},
     "output_type": "execute_result"
    }
   ],
   "source": [
    "# Анализ столбца на количество различных значений в нём\n",
    "df.Status.value_counts()"
   ]
  },
  {
   "cell_type": "markdown",
   "metadata": {},
   "source": [
    "Убираем ненужные колонки"
   ]
  },
  {
   "cell_type": "code",
   "execution_count": 8,
   "metadata": {},
   "outputs": [],
   "source": [
    "df = df.drop('Notes',axis=1) # удаляем столбец содержащий одни NaN\n",
    "df = df.drop('EmployeeName',axis=1) # удаляем столбец показывающий Имя работника\n",
    "df = df.drop('Status',axis=1) # удаляем столбец показывающий Full Time и Part Time"
   ]
  },
  {
   "cell_type": "markdown",
   "metadata": {},
   "source": [
    "Заменяем текстовые значения в колонках с цифровыми значениями и удаляем строки где не заполнено название должности"
   ]
  },
  {
   "cell_type": "code",
   "execution_count": 9,
   "metadata": {},
   "outputs": [],
   "source": [
    "df.replace('Not Provided', np.NaN, inplace = True)\n",
    "df.replace('Not provided', np.NaN, inplace = True)\n",
    "df = df.drop(np.where(df['JobTitle'].isnull())[0])  # удаляем строки с не указанным названием должности"
   ]
  },
  {
   "cell_type": "markdown",
   "metadata": {},
   "source": [
    "Меняем типы данных для удобства дальнейшей работы с ними"
   ]
  },
  {
   "cell_type": "code",
   "execution_count": 10,
   "metadata": {},
   "outputs": [],
   "source": [
    "df = df.astype({'JobTitle': np.str,'Benefits':np.float, 'OvertimePay': np.float, 'OtherPay': np.float, 'Agency': np.str, 'BasePay': np.float})"
   ]
  },
  {
   "cell_type": "markdown",
   "metadata": {},
   "source": [
    "##### Строки, где значения колонок 'Benefits' и 'BasePay' со значением NaN вычисляем по другим колонкам"
   ]
  },
  {
   "cell_type": "code",
   "execution_count": 11,
   "metadata": {},
   "outputs": [],
   "source": [
    "df.loc[(df.Benefits.isnull() ), ('Benefits')] = df.TotalPayBenefits-df.TotalPay  ## потому что нет льгот\n",
    "df.loc[(df.BasePay.isnull() ), ('BasePay')] = df.TotalPay-df.OvertimePay-df.OtherPay  ## потому что вся зарплата в бонусах"
   ]
  },
  {
   "cell_type": "markdown",
   "metadata": {},
   "source": [
    "Проверяем получившиеся типы данных"
   ]
  },
  {
   "cell_type": "code",
   "execution_count": 12,
   "metadata": {},
   "outputs": [
    {
     "data": {
      "text/plain": [
       "Id                    int64\n",
       "JobTitle             object\n",
       "BasePay             float64\n",
       "OvertimePay         float64\n",
       "OtherPay            float64\n",
       "Benefits            float64\n",
       "TotalPay            float64\n",
       "TotalPayBenefits    float64\n",
       "Year                  int64\n",
       "Agency               object\n",
       "dtype: object"
      ]
     },
     "execution_count": 12,
     "metadata": {},
     "output_type": "execute_result"
    }
   ],
   "source": [
    "df.dtypes"
   ]
  },
  {
   "cell_type": "code",
   "execution_count": 13,
   "metadata": {},
   "outputs": [
    {
     "name": "stdout",
     "output_type": "stream",
     "text": [
      "Id 0.0\n",
      "JobTitle 0.0\n",
      "BasePay 0.0\n",
      "OvertimePay 0.0\n",
      "OtherPay 0.0\n",
      "Benefits 0.0\n",
      "TotalPay 0.0\n",
      "TotalPayBenefits 0.0\n",
      "Year 0.0\n",
      "Agency 0.0\n"
     ]
    }
   ],
   "source": [
    "## сколько NaN в процентном эквиваленте по столбцам\n",
    "for col in df.columns:\n",
    "  print(col, round(df[col].isna().sum() / df.shape[0] *100,2))"
   ]
  },
  {
   "cell_type": "code",
   "execution_count": 10,
   "metadata": {},
   "outputs": [
    {
     "data": {
      "text/plain": [
       "0"
      ]
     },
     "execution_count": 10,
     "metadata": {},
     "output_type": "execute_result"
    }
   ],
   "source": [
    "df.duplicated().sum() # проверка на дубли\n",
    "# дублей нет"
   ]
  },
  {
   "cell_type": "code",
   "execution_count": 11,
   "metadata": {},
   "outputs": [
    {
     "name": "stdout",
     "output_type": "stream",
     "text": [
      "<class 'pandas.core.frame.DataFrame'>\n",
      "Int64Index: 148650 entries, 0 to 148653\n",
      "Data columns (total 10 columns):\n",
      " #   Column            Non-Null Count   Dtype  \n",
      "---  ------            --------------   -----  \n",
      " 0   Id                148650 non-null  int64  \n",
      " 1   JobTitle          148650 non-null  object \n",
      " 2   BasePay           148650 non-null  float64\n",
      " 3   OvertimePay       148650 non-null  float64\n",
      " 4   OtherPay          148650 non-null  float64\n",
      " 5   Benefits          148650 non-null  float64\n",
      " 6   TotalPay          148650 non-null  float64\n",
      " 7   TotalPayBenefits  148650 non-null  float64\n",
      " 8   Year              148650 non-null  int64  \n",
      " 9   Agency            148650 non-null  object \n",
      "dtypes: float64(6), int64(2), object(2)\n",
      "memory usage: 15.3+ MB\n"
     ]
    }
   ],
   "source": [
    "# Общая информация по получившемуся DataFrame\n",
    "df.info()"
   ]
  },
  {
   "cell_type": "markdown",
   "metadata": {},
   "source": [
    "Создаём новый Dataframe где в колонке с названием должности есть одно из 3-х ключевых слов (только одно а не сразу несколько)"
   ]
  },
  {
   "cell_type": "code",
   "execution_count": 14,
   "metadata": {
    "scrolled": true
   },
   "outputs": [],
   "source": [
    "DataFilter = df['JobTitle'].str.lower().str.contains('police', regex=False)\n",
    "DataFilter2 = df['JobTitle'].str.lower().str.contains('fire', regex=False)\n",
    "DataFilter3 = df['JobTitle'].str.lower().str.contains('medic', regex=False)\n",
    "df_with_depart = df[DataFilter^DataFilter2^DataFilter3]  \n",
    "# берём исключающее или для более репрезентативной выборки.\n",
    "# Причина: есть должности, где встречаются сразу несколько ключевых слов."
   ]
  },
  {
   "cell_type": "code",
   "execution_count": 15,
   "metadata": {
    "scrolled": false
   },
   "outputs": [
    {
     "data": {
      "text/html": [
       "<div>\n",
       "<style scoped>\n",
       "    .dataframe tbody tr th:only-of-type {\n",
       "        vertical-align: middle;\n",
       "    }\n",
       "\n",
       "    .dataframe tbody tr th {\n",
       "        vertical-align: top;\n",
       "    }\n",
       "\n",
       "    .dataframe thead th {\n",
       "        text-align: right;\n",
       "    }\n",
       "</style>\n",
       "<table border=\"1\" class=\"dataframe\">\n",
       "  <thead>\n",
       "    <tr style=\"text-align: right;\">\n",
       "      <th></th>\n",
       "      <th>Id</th>\n",
       "      <th>JobTitle</th>\n",
       "      <th>BasePay</th>\n",
       "      <th>OvertimePay</th>\n",
       "      <th>OtherPay</th>\n",
       "      <th>Benefits</th>\n",
       "      <th>TotalPay</th>\n",
       "      <th>TotalPayBenefits</th>\n",
       "      <th>Year</th>\n",
       "      <th>Agency</th>\n",
       "    </tr>\n",
       "  </thead>\n",
       "  <tbody>\n",
       "    <tr>\n",
       "      <th>1</th>\n",
       "      <td>2</td>\n",
       "      <td>CAPTAIN III (POLICE DEPARTMENT)</td>\n",
       "      <td>155966.02</td>\n",
       "      <td>245131.88</td>\n",
       "      <td>137811.38</td>\n",
       "      <td>0.00</td>\n",
       "      <td>538909.28</td>\n",
       "      <td>538909.28</td>\n",
       "      <td>2011</td>\n",
       "      <td>San Francisco</td>\n",
       "    </tr>\n",
       "    <tr>\n",
       "      <th>2</th>\n",
       "      <td>3</td>\n",
       "      <td>CAPTAIN III (POLICE DEPARTMENT)</td>\n",
       "      <td>212739.13</td>\n",
       "      <td>106088.18</td>\n",
       "      <td>16452.60</td>\n",
       "      <td>0.00</td>\n",
       "      <td>335279.91</td>\n",
       "      <td>335279.91</td>\n",
       "      <td>2011</td>\n",
       "      <td>San Francisco</td>\n",
       "    </tr>\n",
       "    <tr>\n",
       "      <th>4</th>\n",
       "      <td>5</td>\n",
       "      <td>DEPUTY CHIEF OF DEPARTMENT,(FIRE DEPARTMENT)</td>\n",
       "      <td>134401.60</td>\n",
       "      <td>9737.00</td>\n",
       "      <td>182234.59</td>\n",
       "      <td>0.00</td>\n",
       "      <td>326373.19</td>\n",
       "      <td>326373.19</td>\n",
       "      <td>2011</td>\n",
       "      <td>San Francisco</td>\n",
       "    </tr>\n",
       "    <tr>\n",
       "      <th>6</th>\n",
       "      <td>7</td>\n",
       "      <td>BATTALION CHIEF, (FIRE DEPARTMENT)</td>\n",
       "      <td>92492.01</td>\n",
       "      <td>89062.90</td>\n",
       "      <td>134426.14</td>\n",
       "      <td>0.00</td>\n",
       "      <td>315981.05</td>\n",
       "      <td>315981.05</td>\n",
       "      <td>2011</td>\n",
       "      <td>San Francisco</td>\n",
       "    </tr>\n",
       "    <tr>\n",
       "      <th>8</th>\n",
       "      <td>9</td>\n",
       "      <td>BATTALION CHIEF, (FIRE DEPARTMENT)</td>\n",
       "      <td>176932.64</td>\n",
       "      <td>86362.68</td>\n",
       "      <td>40132.23</td>\n",
       "      <td>0.00</td>\n",
       "      <td>303427.55</td>\n",
       "      <td>303427.55</td>\n",
       "      <td>2011</td>\n",
       "      <td>San Francisco</td>\n",
       "    </tr>\n",
       "    <tr>\n",
       "      <th>...</th>\n",
       "      <td>...</td>\n",
       "      <td>...</td>\n",
       "      <td>...</td>\n",
       "      <td>...</td>\n",
       "      <td>...</td>\n",
       "      <td>...</td>\n",
       "      <td>...</td>\n",
       "      <td>...</td>\n",
       "      <td>...</td>\n",
       "      <td>...</td>\n",
       "    </tr>\n",
       "    <tr>\n",
       "      <th>148409</th>\n",
       "      <td>148410</td>\n",
       "      <td>Police Officer</td>\n",
       "      <td>0.00</td>\n",
       "      <td>0.00</td>\n",
       "      <td>242.66</td>\n",
       "      <td>0.00</td>\n",
       "      <td>242.66</td>\n",
       "      <td>242.66</td>\n",
       "      <td>2014</td>\n",
       "      <td>San Francisco</td>\n",
       "    </tr>\n",
       "    <tr>\n",
       "      <th>148437</th>\n",
       "      <td>148438</td>\n",
       "      <td>Police Officer 3</td>\n",
       "      <td>0.00</td>\n",
       "      <td>0.00</td>\n",
       "      <td>212.39</td>\n",
       "      <td>0.00</td>\n",
       "      <td>212.39</td>\n",
       "      <td>212.39</td>\n",
       "      <td>2014</td>\n",
       "      <td>San Francisco</td>\n",
       "    </tr>\n",
       "    <tr>\n",
       "      <th>148506</th>\n",
       "      <td>148507</td>\n",
       "      <td>Community Police Services Aide</td>\n",
       "      <td>0.00</td>\n",
       "      <td>0.00</td>\n",
       "      <td>134.78</td>\n",
       "      <td>0.00</td>\n",
       "      <td>134.78</td>\n",
       "      <td>134.78</td>\n",
       "      <td>2014</td>\n",
       "      <td>San Francisco</td>\n",
       "    </tr>\n",
       "    <tr>\n",
       "      <th>148554</th>\n",
       "      <td>148555</td>\n",
       "      <td>Fire Alarm Dispatcher</td>\n",
       "      <td>73.33</td>\n",
       "      <td>0.00</td>\n",
       "      <td>0.00</td>\n",
       "      <td>0.73</td>\n",
       "      <td>73.33</td>\n",
       "      <td>74.06</td>\n",
       "      <td>2014</td>\n",
       "      <td>San Francisco</td>\n",
       "    </tr>\n",
       "    <tr>\n",
       "      <th>148561</th>\n",
       "      <td>148562</td>\n",
       "      <td>Community Police Services Aide</td>\n",
       "      <td>0.00</td>\n",
       "      <td>0.00</td>\n",
       "      <td>59.59</td>\n",
       "      <td>10.78</td>\n",
       "      <td>59.59</td>\n",
       "      <td>70.37</td>\n",
       "      <td>2014</td>\n",
       "      <td>San Francisco</td>\n",
       "    </tr>\n",
       "  </tbody>\n",
       "</table>\n",
       "<p>14529 rows × 10 columns</p>\n",
       "</div>"
      ],
      "text/plain": [
       "            Id                                      JobTitle    BasePay  \\\n",
       "1            2               CAPTAIN III (POLICE DEPARTMENT)  155966.02   \n",
       "2            3               CAPTAIN III (POLICE DEPARTMENT)  212739.13   \n",
       "4            5  DEPUTY CHIEF OF DEPARTMENT,(FIRE DEPARTMENT)  134401.60   \n",
       "6            7            BATTALION CHIEF, (FIRE DEPARTMENT)   92492.01   \n",
       "8            9            BATTALION CHIEF, (FIRE DEPARTMENT)  176932.64   \n",
       "...        ...                                           ...        ...   \n",
       "148409  148410                                Police Officer       0.00   \n",
       "148437  148438                              Police Officer 3       0.00   \n",
       "148506  148507                Community Police Services Aide       0.00   \n",
       "148554  148555                         Fire Alarm Dispatcher      73.33   \n",
       "148561  148562                Community Police Services Aide       0.00   \n",
       "\n",
       "        OvertimePay   OtherPay  Benefits   TotalPay  TotalPayBenefits  Year  \\\n",
       "1         245131.88  137811.38      0.00  538909.28         538909.28  2011   \n",
       "2         106088.18   16452.60      0.00  335279.91         335279.91  2011   \n",
       "4           9737.00  182234.59      0.00  326373.19         326373.19  2011   \n",
       "6          89062.90  134426.14      0.00  315981.05         315981.05  2011   \n",
       "8          86362.68   40132.23      0.00  303427.55         303427.55  2011   \n",
       "...             ...        ...       ...        ...               ...   ...   \n",
       "148409         0.00     242.66      0.00     242.66            242.66  2014   \n",
       "148437         0.00     212.39      0.00     212.39            212.39  2014   \n",
       "148506         0.00     134.78      0.00     134.78            134.78  2014   \n",
       "148554         0.00       0.00      0.73      73.33             74.06  2014   \n",
       "148561         0.00      59.59     10.78      59.59             70.37  2014   \n",
       "\n",
       "               Agency  \n",
       "1       San Francisco  \n",
       "2       San Francisco  \n",
       "4       San Francisco  \n",
       "6       San Francisco  \n",
       "8       San Francisco  \n",
       "...               ...  \n",
       "148409  San Francisco  \n",
       "148437  San Francisco  \n",
       "148506  San Francisco  \n",
       "148554  San Francisco  \n",
       "148561  San Francisco  \n",
       "\n",
       "[14529 rows x 10 columns]"
      ]
     },
     "execution_count": 15,
     "metadata": {},
     "output_type": "execute_result"
    }
   ],
   "source": [
    "df_with_depart"
   ]
  },
  {
   "cell_type": "markdown",
   "metadata": {},
   "source": [
    "Добавляем колонку где будет отображена принадлежность должности к определённому департаменту"
   ]
  },
  {
   "cell_type": "code",
   "execution_count": 16,
   "metadata": {
    "scrolled": true
   },
   "outputs": [
    {
     "name": "stderr",
     "output_type": "stream",
     "text": [
      "<ipython-input-16-2df57780a14e>:2: SettingWithCopyWarning: \n",
      "A value is trying to be set on a copy of a slice from a DataFrame.\n",
      "Try using .loc[row_indexer,col_indexer] = value instead\n",
      "\n",
      "See the caveats in the documentation: https://pandas.pydata.org/pandas-docs/stable/user_guide/indexing.html#returning-a-view-versus-a-copy\n",
      "  df_with_depart['Depart'] = '1 2 3'\n",
      "C:\\ProgramData\\Anaconda3\\lib\\site-packages\\pandas\\core\\indexing.py:1765: SettingWithCopyWarning: \n",
      "A value is trying to be set on a copy of a slice from a DataFrame.\n",
      "Try using .loc[row_indexer,col_indexer] = value instead\n",
      "\n",
      "See the caveats in the documentation: https://pandas.pydata.org/pandas-docs/stable/user_guide/indexing.html#returning-a-view-versus-a-copy\n",
      "  isetter(loc, value)\n"
     ]
    }
   ],
   "source": [
    "# Добавляем новый столбец и инициализируем значением по умолчанию\n",
    "df_with_depart['Depart'] = '1 2 3'\n",
    "# Присваиваем каждой строке название департамента\n",
    "df_with_depart.loc[df['JobTitle'].str.lower().str.contains('police', regex=False),'Depart'] = 'Police'\n",
    "df_with_depart.loc[df['JobTitle'].str.lower().str.contains('fire', regex=False),'Depart'] = 'Fire'\n",
    "df_with_depart.loc[df['JobTitle'].str.lower().str.contains('medic', regex=False),'Depart'] = 'Medicine'"
   ]
  },
  {
   "cell_type": "code",
   "execution_count": 17,
   "metadata": {
    "scrolled": true
   },
   "outputs": [
    {
     "name": "stdout",
     "output_type": "stream",
     "text": [
      "Id 0.0\n",
      "JobTitle 0.0\n",
      "BasePay 0.0\n",
      "OvertimePay 0.0\n",
      "OtherPay 0.0\n",
      "Benefits 0.0\n",
      "TotalPay 0.0\n",
      "TotalPayBenefits 0.0\n",
      "Year 0.0\n",
      "Agency 0.0\n",
      "Depart 0.0\n"
     ]
    }
   ],
   "source": [
    "# Проверяем что NaN-значений у нас нет\n",
    "for col in df_with_depart.columns:\n",
    "  print(col, round(df_with_depart[col].isna().sum() / df_with_depart.shape[0] *100,2))"
   ]
  },
  {
   "cell_type": "markdown",
   "metadata": {},
   "source": [
    "Группируем получившиеся данные для построения различных графиков на их основе."
   ]
  },
  {
   "cell_type": "code",
   "execution_count": 18,
   "metadata": {},
   "outputs": [],
   "source": [
    "df_median = df_with_depart.groupby(['Year','Depart'])['TotalPayBenefits'].median().reset_index()\n",
    "df_mean = df_with_depart.groupby(['Year','Depart'])['TotalPayBenefits'].mean().reset_index()\n",
    "df_max = df_with_depart.groupby(['Year','Depart'])['TotalPayBenefits'].max().reset_index()"
   ]
  },
  {
   "cell_type": "code",
   "execution_count": 19,
   "metadata": {},
   "outputs": [
    {
     "data": {
      "text/html": [
       "<div>\n",
       "<style scoped>\n",
       "    .dataframe tbody tr th:only-of-type {\n",
       "        vertical-align: middle;\n",
       "    }\n",
       "\n",
       "    .dataframe tbody tr th {\n",
       "        vertical-align: top;\n",
       "    }\n",
       "\n",
       "    .dataframe thead th {\n",
       "        text-align: right;\n",
       "    }\n",
       "</style>\n",
       "<table border=\"1\" class=\"dataframe\">\n",
       "  <thead>\n",
       "    <tr style=\"text-align: right;\">\n",
       "      <th></th>\n",
       "      <th>Year</th>\n",
       "      <th>Depart</th>\n",
       "      <th>TotalPayBenefits</th>\n",
       "    </tr>\n",
       "  </thead>\n",
       "  <tbody>\n",
       "    <tr>\n",
       "      <th>0</th>\n",
       "      <td>2011</td>\n",
       "      <td>Fire</td>\n",
       "      <td>148076.890</td>\n",
       "    </tr>\n",
       "    <tr>\n",
       "      <th>1</th>\n",
       "      <td>2011</td>\n",
       "      <td>Medicine</td>\n",
       "      <td>55376.420</td>\n",
       "    </tr>\n",
       "    <tr>\n",
       "      <th>2</th>\n",
       "      <td>2011</td>\n",
       "      <td>Police</td>\n",
       "      <td>127177.465</td>\n",
       "    </tr>\n",
       "    <tr>\n",
       "      <th>3</th>\n",
       "      <td>2012</td>\n",
       "      <td>Fire</td>\n",
       "      <td>198750.800</td>\n",
       "    </tr>\n",
       "    <tr>\n",
       "      <th>4</th>\n",
       "      <td>2012</td>\n",
       "      <td>Medicine</td>\n",
       "      <td>86370.170</td>\n",
       "    </tr>\n",
       "    <tr>\n",
       "      <th>5</th>\n",
       "      <td>2012</td>\n",
       "      <td>Police</td>\n",
       "      <td>161310.890</td>\n",
       "    </tr>\n",
       "    <tr>\n",
       "      <th>6</th>\n",
       "      <td>2013</td>\n",
       "      <td>Fire</td>\n",
       "      <td>208720.330</td>\n",
       "    </tr>\n",
       "    <tr>\n",
       "      <th>7</th>\n",
       "      <td>2013</td>\n",
       "      <td>Medicine</td>\n",
       "      <td>87253.470</td>\n",
       "    </tr>\n",
       "    <tr>\n",
       "      <th>8</th>\n",
       "      <td>2013</td>\n",
       "      <td>Police</td>\n",
       "      <td>171059.350</td>\n",
       "    </tr>\n",
       "    <tr>\n",
       "      <th>9</th>\n",
       "      <td>2014</td>\n",
       "      <td>Fire</td>\n",
       "      <td>200581.780</td>\n",
       "    </tr>\n",
       "    <tr>\n",
       "      <th>10</th>\n",
       "      <td>2014</td>\n",
       "      <td>Medicine</td>\n",
       "      <td>89120.440</td>\n",
       "    </tr>\n",
       "    <tr>\n",
       "      <th>11</th>\n",
       "      <td>2014</td>\n",
       "      <td>Police</td>\n",
       "      <td>165794.610</td>\n",
       "    </tr>\n",
       "  </tbody>\n",
       "</table>\n",
       "</div>"
      ],
      "text/plain": [
       "    Year    Depart  TotalPayBenefits\n",
       "0   2011      Fire        148076.890\n",
       "1   2011  Medicine         55376.420\n",
       "2   2011    Police        127177.465\n",
       "3   2012      Fire        198750.800\n",
       "4   2012  Medicine         86370.170\n",
       "5   2012    Police        161310.890\n",
       "6   2013      Fire        208720.330\n",
       "7   2013  Medicine         87253.470\n",
       "8   2013    Police        171059.350\n",
       "9   2014      Fire        200581.780\n",
       "10  2014  Medicine         89120.440\n",
       "11  2014    Police        165794.610"
      ]
     },
     "execution_count": 19,
     "metadata": {},
     "output_type": "execute_result"
    }
   ],
   "source": [
    "# Пример данных, получившихся после группировки\n",
    "df_median"
   ]
  },
  {
   "cell_type": "code",
   "execution_count": 21,
   "metadata": {},
   "outputs": [],
   "source": [
    "# Импортируем необходимые библиотеки для построения графиков\n",
    "import matplotlib.pyplot as plt\n",
    "import math as math_\n",
    "import matplotlib.ticker as ticker\n",
    "import seaborn as sns\n",
    "from pivottablejs import pivot_ui\n",
    "from pylab import rcParams"
   ]
  },
  {
   "cell_type": "code",
   "execution_count": 22,
   "metadata": {},
   "outputs": [
    {
     "data": {
      "text/plain": [
       "32"
      ]
     },
     "execution_count": 22,
     "metadata": {},
     "output_type": "execute_result"
    }
   ],
   "source": [
    "int(1+3.322*math_.log(len(df_with_depart))) # Оптимальное количество столбцов по Формуле Стерджесса для анализа наших данных"
   ]
  },
  {
   "cell_type": "code",
   "execution_count": 48,
   "metadata": {
    "scrolled": false
   },
   "outputs": [
    {
     "data": {
      "image/png": "[encoded data removed]",
      "text/plain": [
       "<Figure size 576x360 with 1 Axes>"
      ]
     },
     "metadata": {
      "needs_background": "light"
     },
     "output_type": "display_data"
    }
   ],
   "source": [
    "# Смотрим распределение всех зарплат с оптимальным для анализа количеством столбцов (Формула Стерджесса)\n",
    "rcParams['figure.figsize'] = 8,5\n",
    "hist_info = plt.hist(df_with_depart.TotalPayBenefits, bins=int(1+3.322*math_.log(len(df_with_depart))), edgecolor='black')\n",
    "plt.title('Распределение всех зарплат за анализируемый период 2011-2014г')\n",
    "plt.ylabel('Количество сотрудников')\n",
    "plt.xlabel('Сумма общих доходов сотрудника')\n",
    "plt.show()"
   ]
  },
  {
   "cell_type": "code",
   "execution_count": 34,
   "metadata": {},
   "outputs": [
    {
     "data": {
      "text/plain": [
       "158538.17"
      ]
     },
     "execution_count": 34,
     "metadata": {},
     "output_type": "execute_result"
    }
   ],
   "source": [
    "# Медианный доход сотрудника в целом по данным\n",
    "df_with_depart.TotalPayBenefits.median()"
   ]
  },
  {
   "cell_type": "code",
   "execution_count": 35,
   "metadata": {},
   "outputs": [
    {
     "data": {
      "text/plain": [
       "149062.62005299595"
      ]
     },
     "execution_count": 35,
     "metadata": {},
     "output_type": "execute_result"
    }
   ],
   "source": [
    "# Средний доход сотрудника в целом по данным\n",
    "df_with_depart.TotalPayBenefits.mean()"
   ]
  },
  {
   "cell_type": "markdown",
   "metadata": {},
   "source": [
    "#### Из графика, среднего значения и медианы видно, что для описания среднего значения зарплат больше подходит медианное значение, чем среднее. Её и будем использовать ниже."
   ]
  },
  {
   "cell_type": "markdown",
   "metadata": {},
   "source": [
    "### 1. Как со временем менялись зарплаты между разными группами (группировка по Department - fire, medicine, police)? (максимальная, медианная, средняя)"
   ]
  },
  {
   "cell_type": "code",
   "execution_count": 46,
   "metadata": {},
   "outputs": [
    {
     "data": {
      "image/png": "[encoded data removed]",
      "text/plain": [
       "<Figure size 648x360 with 1 Axes>"
      ]
     },
     "metadata": {
      "needs_background": "light"
     },
     "output_type": "display_data"
    }
   ],
   "source": [
    "# Медианная оценка\n",
    "plt.figure(figsize=(9,5))\n",
    "plt.locator_params(axis ='x', nbins = 4)\n",
    "for N in ['Fire', 'Medicine', 'Police']:\n",
    "    plt.plot(df_median[(df_median.Depart == N)]['Year'], df_median[(df_median.Depart == N)]['TotalPayBenefits'],scalex=True, alpha=1)\n",
    "plt.legend(['Fire', 'Medicine', 'Police'])\n",
    "plt.title('Распределение медианы зарплаты в разрезе департамента и года')\n",
    "plt.xlabel('Год')\n",
    "plt.ylabel('Медиана общих доходов сотрудника')\n",
    "plt.show()"
   ]
  },
  {
   "cell_type": "code",
   "execution_count": 45,
   "metadata": {},
   "outputs": [
    {
     "data": {
      "image/png": "[encoded data removed]",
      "text/plain": [
       "<Figure size 648x360 with 1 Axes>"
      ]
     },
     "metadata": {
      "needs_background": "light"
     },
     "output_type": "display_data"
    }
   ],
   "source": [
    "# Средняя оценка\n",
    "plt.figure(figsize=(9,5))\n",
    "plt.locator_params(axis ='x', nbins = 4)\n",
    "for N in ['Fire', 'Medicine', 'Police']:\n",
    "    plt.plot(df_mean[(df_mean.Depart == N)]['Year'], df_mean[(df_mean.Depart == N)]['TotalPayBenefits'],scalex=True, alpha=1)\n",
    "plt.legend(['Fire', 'Medicine', 'Police'])\n",
    "plt.title('Распределение среднего значения зарплаты в разрезе департамента и года')\n",
    "plt.xlabel('Год')\n",
    "plt.ylabel('Медиана общих доходов сотрудника')\n",
    "plt.show()"
   ]
  },
  {
   "cell_type": "markdown",
   "metadata": {},
   "source": [
    "Средняя и медианная оценда дохода в разрезе департаментов показывает, что доход у департамента пожарников самый существенный.\n",
    "У полицейских он немного ниже, а у работников медицинского департамента он стабильно, примерно, в 2 раза ниже, чем у полицейских.\n",
    "Заметен значительный рост доходов сотрудников всех департаментов при переходе с 2011 на 2012 год."
   ]
  },
  {
   "cell_type": "code",
   "execution_count": 44,
   "metadata": {},
   "outputs": [
    {
     "data": {
      "image/png": "[encoded data removed]",
      "text/plain": [
       "<Figure size 648x360 with 1 Axes>"
      ]
     },
     "metadata": {
      "needs_background": "light"
     },
     "output_type": "display_data"
    }
   ],
   "source": [
    "# Максимальная оценка\n",
    "plt.figure(figsize=(9,5))\n",
    "plt.locator_params(axis ='x', nbins = 4)\n",
    "for N in ['Fire', 'Medicine', 'Police']:\n",
    "    plt.plot(df_max[(df_max.Depart == N)]['Year'], df_max[(df_max.Depart == N)]['TotalPayBenefits'],scalex=True, alpha=1)\n",
    "plt.legend(['Fire', 'Medicine', 'Police'])\n",
    "plt.title('Распределение максимального значения зарплаты в разрезе департамента и года')\n",
    "plt.xlabel('Год')\n",
    "plt.ylabel('Максимальный доход сотрудника')\n",
    "plt.show()"
   ]
  },
  {
   "cell_type": "code",
   "execution_count": null,
   "metadata": {},
   "outputs": [],
   "source": [
    "Максимальный доход у департамента пожарников и полицейских выровнялся. \n",
    "У работников медицинского департамента он стабильно немного ниже.\n",
    "В целом доходы значительно выросли только при переходе с 2011 на 2012 год."
   ]
  },
  {
   "cell_type": "markdown",
   "metadata": {},
   "source": [
    "### 2. Как распределяются базовая оплата, сверхурочная работа и льготы между разными группами? Нужно построить диаграммы по распределению со временем для каждого департамента по базовым, сверхурочным и льготам"
   ]
  },
  {
   "cell_type": "markdown",
   "metadata": {},
   "source": [
    "Рисуем графики. Выводы под ними."
   ]
  },
  {
   "cell_type": "code",
   "execution_count": 15,
   "metadata": {
    "scrolled": true
   },
   "outputs": [
    {
     "data": {
      "text/plain": [
       "<AxesSubplot:xlabel='Year', ylabel='BasePay'>"
      ]
     },
     "execution_count": 15,
     "metadata": {},
     "output_type": "execute_result"
    },
    {
     "data": {
      "image/png": "[encoded data removed]",
      "text/plain": [
       "<Figure size 432x288 with 1 Axes>"
      ]
     },
     "metadata": {
      "needs_background": "light"
     },
     "output_type": "display_data"
    }
   ],
   "source": [
    "df_median_BasePay = df_with_depart.groupby(['Year','Depart'])['BasePay'].median().reset_index()\n",
    "sns.barplot(x='Year', y='BasePay', hue='Depart', data=df_median_BasePay)"
   ]
  },
  {
   "cell_type": "markdown",
   "metadata": {},
   "source": [
    "Это распределение базовой оплаты труда. Оно очень мало изменяется со временем. \n",
    "В департаментах полиции и пожарных базовая оплата труда в два раза выше, чем в департаменте медицины."
   ]
  },
  {
   "cell_type": "code",
   "execution_count": 16,
   "metadata": {
    "scrolled": true
   },
   "outputs": [
    {
     "data": {
      "text/plain": [
       "<AxesSubplot:xlabel='Year', ylabel='OvertimePay'>"
      ]
     },
     "execution_count": 16,
     "metadata": {},
     "output_type": "execute_result"
    },
    {
     "data": {
      "image/png": "[encoded data removed]",
      "text/plain": [
       "<Figure size 432x288 with 1 Axes>"
      ]
     },
     "metadata": {
      "needs_background": "light"
     },
     "output_type": "display_data"
    }
   ],
   "source": [
    "df_median_OvertimePay = df_with_depart.groupby(['Year','Depart'])['OvertimePay'].median().reset_index()\n",
    "sns.barplot(x='Year', y='OvertimePay', hue='Depart', data=df_median_OvertimePay)"
   ]
  },
  {
   "cell_type": "markdown",
   "metadata": {},
   "source": [
    "Это распределение платы за сверхурочную работу. В департаменте медицины таковая совсем отсутствует. \n",
    "В департаменте пожарных эти выплаты в 2-3 раза больше по сравнению с департаментом полиции."
   ]
  },
  {
   "cell_type": "code",
   "execution_count": 17,
   "metadata": {},
   "outputs": [
    {
     "data": {
      "text/plain": [
       "<AxesSubplot:xlabel='Year', ylabel='Benefits'>"
      ]
     },
     "execution_count": 17,
     "metadata": {},
     "output_type": "execute_result"
    },
    {
     "data": {
      "image/png": "[encoded data removed]",
      "text/plain": [
       "<Figure size 432x288 with 1 Axes>"
      ]
     },
     "metadata": {
      "needs_background": "light"
     },
     "output_type": "display_data"
    }
   ],
   "source": [
    "df_median_Benefits = df_with_depart.groupby(['Year','Depart'])['Benefits'].median().reset_index()\n",
    "sns.barplot(x='Year', y='Benefits', hue='Depart', data=df_median_Benefits)"
   ]
  },
  {
   "cell_type": "markdown",
   "metadata": {},
   "source": [
    "Это распределение льгот. Видно, что в 2011 году льгот не было совсем. В дальнейшем их распределение достаточно устойчивое."
   ]
  },
  {
   "cell_type": "code",
   "execution_count": 18,
   "metadata": {},
   "outputs": [
    {
     "data": {
      "text/plain": [
       "<AxesSubplot:xlabel='Year', ylabel='TotalPayBenefits'>"
      ]
     },
     "execution_count": 18,
     "metadata": {},
     "output_type": "execute_result"
    },
    {
     "data": {
      "image/png": "[encoded data removed]",
      "text/plain": [
       "<Figure size 432x288 with 1 Axes>"
      ]
     },
     "metadata": {
      "needs_background": "light"
     },
     "output_type": "display_data"
    }
   ],
   "source": [
    "df_TotalPay = df_with_depart.groupby(['Year','Depart'])['TotalPayBenefits'].sum().reset_index()\n",
    "sns.barplot(x='Year', y='TotalPayBenefits', hue='Depart', data=df_TotalPay)"
   ]
  },
  {
   "cell_type": "markdown",
   "metadata": {},
   "source": [
    "Таким образом бюджет больше всего поступает в департамент полиции, чуть менее в департамент пожарников. \n",
    "Примерно в 10 раз меньше поступает в медицинский департамент."
   ]
  },
  {
   "cell_type": "code",
   "execution_count": 19,
   "metadata": {},
   "outputs": [
    {
     "data": {
      "text/plain": [
       "<AxesSubplot:xlabel='Year', ylabel='Count'>"
      ]
     },
     "execution_count": 19,
     "metadata": {},
     "output_type": "execute_result"
    },
    {
     "data": {
      "image/png": "[encoded data removed]",
      "text/plain": [
       "<Figure size 432x288 with 1 Axes>"
      ]
     },
     "metadata": {
      "needs_background": "light"
     },
     "output_type": "display_data"
    }
   ],
   "source": [
    "df_count_people = df_with_depart.groupby(['Year','Depart'])['JobTitle'].count().reset_index()\n",
    "#перенаименование столбца для более корректной подписи оси\n",
    "df_count_people.rename(columns = {'JobTitle':'Count'}, inplace = True) \n",
    "sns.barplot(x='Year', y='Count', hue='Depart', data=df_count_people)"
   ]
  },
  {
   "cell_type": "markdown",
   "metadata": {},
   "source": [
    "В 2012 году по сравнению с 2011 количество полицейских сильно сократилось а дальше их число оставалось неизменным.\n",
    "Всех больше численность именно у департамента полиции, в департаменте пожарных трудится на 40% меньше сотрудников, \n",
    "а в департаменте медицины около 20% от чистенности полицейских."
   ]
  },
  {
   "cell_type": "code",
   "execution_count": 27,
   "metadata": {},
   "outputs": [
    {
     "data": {
      "image/png": "[encoded data removed]",
      "text/plain": [
       "<Figure size 432x288 with 1 Axes>"
      ]
     },
     "metadata": {
      "needs_background": "light"
     },
     "output_type": "display_data"
    }
   ],
   "source": [
    "hist_info = plt.hist(df_with_depart.TotalPayBenefits, bins=100, edgecolor='black')\n",
    "plt.show()"
   ]
  },
  {
   "cell_type": "markdown",
   "metadata": {},
   "source": [
    "### Теперь займёмся предсказанием значения TotalPayBenefits на будущий год с помощью линейной регрессии."
   ]
  },
  {
   "cell_type": "code",
   "execution_count": 20,
   "metadata": {},
   "outputs": [],
   "source": [
    "from sklearn.linear_model import LinearRegression\n",
    "from sklearn.model_selection import train_test_split\n",
    "from sklearn.metrics import mean_squared_error\n",
    "from math import sqrt"
   ]
  },
  {
   "cell_type": "markdown",
   "metadata": {},
   "source": [
    "#### Создаём копию DataFrame с детальными данными по департаментам"
   ]
  },
  {
   "cell_type": "code",
   "execution_count": 74,
   "metadata": {},
   "outputs": [
    {
     "data": {
      "text/html": [
       "<div>\n",
       "<style scoped>\n",
       "    .dataframe tbody tr th:only-of-type {\n",
       "        vertical-align: middle;\n",
       "    }\n",
       "\n",
       "    .dataframe tbody tr th {\n",
       "        vertical-align: top;\n",
       "    }\n",
       "\n",
       "    .dataframe thead th {\n",
       "        text-align: right;\n",
       "    }\n",
       "</style>\n",
       "<table border=\"1\" class=\"dataframe\">\n",
       "  <thead>\n",
       "    <tr style=\"text-align: right;\">\n",
       "      <th></th>\n",
       "      <th>Id</th>\n",
       "      <th>JobTitle</th>\n",
       "      <th>BasePay</th>\n",
       "      <th>OvertimePay</th>\n",
       "      <th>OtherPay</th>\n",
       "      <th>Benefits</th>\n",
       "      <th>TotalPay</th>\n",
       "      <th>TotalPayBenefits</th>\n",
       "      <th>Year</th>\n",
       "      <th>Agency</th>\n",
       "      <th>Depart</th>\n",
       "    </tr>\n",
       "  </thead>\n",
       "  <tbody>\n",
       "    <tr>\n",
       "      <th>1</th>\n",
       "      <td>2</td>\n",
       "      <td>CAPTAIN III (POLICE DEPARTMENT)</td>\n",
       "      <td>155966.02</td>\n",
       "      <td>245131.88</td>\n",
       "      <td>137811.38</td>\n",
       "      <td>0.00</td>\n",
       "      <td>538909.28</td>\n",
       "      <td>538909.28</td>\n",
       "      <td>2011</td>\n",
       "      <td>San Francisco</td>\n",
       "      <td>Police</td>\n",
       "    </tr>\n",
       "    <tr>\n",
       "      <th>2</th>\n",
       "      <td>3</td>\n",
       "      <td>CAPTAIN III (POLICE DEPARTMENT)</td>\n",
       "      <td>212739.13</td>\n",
       "      <td>106088.18</td>\n",
       "      <td>16452.60</td>\n",
       "      <td>0.00</td>\n",
       "      <td>335279.91</td>\n",
       "      <td>335279.91</td>\n",
       "      <td>2011</td>\n",
       "      <td>San Francisco</td>\n",
       "      <td>Police</td>\n",
       "    </tr>\n",
       "    <tr>\n",
       "      <th>4</th>\n",
       "      <td>5</td>\n",
       "      <td>DEPUTY CHIEF OF DEPARTMENT,(FIRE DEPARTMENT)</td>\n",
       "      <td>134401.60</td>\n",
       "      <td>9737.00</td>\n",
       "      <td>182234.59</td>\n",
       "      <td>0.00</td>\n",
       "      <td>326373.19</td>\n",
       "      <td>326373.19</td>\n",
       "      <td>2011</td>\n",
       "      <td>San Francisco</td>\n",
       "      <td>Fire</td>\n",
       "    </tr>\n",
       "    <tr>\n",
       "      <th>6</th>\n",
       "      <td>7</td>\n",
       "      <td>BATTALION CHIEF, (FIRE DEPARTMENT)</td>\n",
       "      <td>92492.01</td>\n",
       "      <td>89062.90</td>\n",
       "      <td>134426.14</td>\n",
       "      <td>0.00</td>\n",
       "      <td>315981.05</td>\n",
       "      <td>315981.05</td>\n",
       "      <td>2011</td>\n",
       "      <td>San Francisco</td>\n",
       "      <td>Fire</td>\n",
       "    </tr>\n",
       "    <tr>\n",
       "      <th>8</th>\n",
       "      <td>9</td>\n",
       "      <td>BATTALION CHIEF, (FIRE DEPARTMENT)</td>\n",
       "      <td>176932.64</td>\n",
       "      <td>86362.68</td>\n",
       "      <td>40132.23</td>\n",
       "      <td>0.00</td>\n",
       "      <td>303427.55</td>\n",
       "      <td>303427.55</td>\n",
       "      <td>2011</td>\n",
       "      <td>San Francisco</td>\n",
       "      <td>Fire</td>\n",
       "    </tr>\n",
       "    <tr>\n",
       "      <th>...</th>\n",
       "      <td>...</td>\n",
       "      <td>...</td>\n",
       "      <td>...</td>\n",
       "      <td>...</td>\n",
       "      <td>...</td>\n",
       "      <td>...</td>\n",
       "      <td>...</td>\n",
       "      <td>...</td>\n",
       "      <td>...</td>\n",
       "      <td>...</td>\n",
       "      <td>...</td>\n",
       "    </tr>\n",
       "    <tr>\n",
       "      <th>148409</th>\n",
       "      <td>148410</td>\n",
       "      <td>Police Officer</td>\n",
       "      <td>0.00</td>\n",
       "      <td>0.00</td>\n",
       "      <td>242.66</td>\n",
       "      <td>0.00</td>\n",
       "      <td>242.66</td>\n",
       "      <td>242.66</td>\n",
       "      <td>2014</td>\n",
       "      <td>San Francisco</td>\n",
       "      <td>Police</td>\n",
       "    </tr>\n",
       "    <tr>\n",
       "      <th>148437</th>\n",
       "      <td>148438</td>\n",
       "      <td>Police Officer 3</td>\n",
       "      <td>0.00</td>\n",
       "      <td>0.00</td>\n",
       "      <td>212.39</td>\n",
       "      <td>0.00</td>\n",
       "      <td>212.39</td>\n",
       "      <td>212.39</td>\n",
       "      <td>2014</td>\n",
       "      <td>San Francisco</td>\n",
       "      <td>Police</td>\n",
       "    </tr>\n",
       "    <tr>\n",
       "      <th>148506</th>\n",
       "      <td>148507</td>\n",
       "      <td>Community Police Services Aide</td>\n",
       "      <td>0.00</td>\n",
       "      <td>0.00</td>\n",
       "      <td>134.78</td>\n",
       "      <td>0.00</td>\n",
       "      <td>134.78</td>\n",
       "      <td>134.78</td>\n",
       "      <td>2014</td>\n",
       "      <td>San Francisco</td>\n",
       "      <td>Police</td>\n",
       "    </tr>\n",
       "    <tr>\n",
       "      <th>148554</th>\n",
       "      <td>148555</td>\n",
       "      <td>Fire Alarm Dispatcher</td>\n",
       "      <td>73.33</td>\n",
       "      <td>0.00</td>\n",
       "      <td>0.00</td>\n",
       "      <td>0.73</td>\n",
       "      <td>73.33</td>\n",
       "      <td>74.06</td>\n",
       "      <td>2014</td>\n",
       "      <td>San Francisco</td>\n",
       "      <td>Fire</td>\n",
       "    </tr>\n",
       "    <tr>\n",
       "      <th>148561</th>\n",
       "      <td>148562</td>\n",
       "      <td>Community Police Services Aide</td>\n",
       "      <td>0.00</td>\n",
       "      <td>0.00</td>\n",
       "      <td>59.59</td>\n",
       "      <td>10.78</td>\n",
       "      <td>59.59</td>\n",
       "      <td>70.37</td>\n",
       "      <td>2014</td>\n",
       "      <td>San Francisco</td>\n",
       "      <td>Police</td>\n",
       "    </tr>\n",
       "  </tbody>\n",
       "</table>\n",
       "<p>14529 rows × 11 columns</p>\n",
       "</div>"
      ],
      "text/plain": [
       "            Id                                      JobTitle    BasePay  \\\n",
       "1            2               CAPTAIN III (POLICE DEPARTMENT)  155966.02   \n",
       "2            3               CAPTAIN III (POLICE DEPARTMENT)  212739.13   \n",
       "4            5  DEPUTY CHIEF OF DEPARTMENT,(FIRE DEPARTMENT)  134401.60   \n",
       "6            7            BATTALION CHIEF, (FIRE DEPARTMENT)   92492.01   \n",
       "8            9            BATTALION CHIEF, (FIRE DEPARTMENT)  176932.64   \n",
       "...        ...                                           ...        ...   \n",
       "148409  148410                                Police Officer       0.00   \n",
       "148437  148438                              Police Officer 3       0.00   \n",
       "148506  148507                Community Police Services Aide       0.00   \n",
       "148554  148555                         Fire Alarm Dispatcher      73.33   \n",
       "148561  148562                Community Police Services Aide       0.00   \n",
       "\n",
       "        OvertimePay   OtherPay  Benefits   TotalPay  TotalPayBenefits  Year  \\\n",
       "1         245131.88  137811.38      0.00  538909.28         538909.28  2011   \n",
       "2         106088.18   16452.60      0.00  335279.91         335279.91  2011   \n",
       "4           9737.00  182234.59      0.00  326373.19         326373.19  2011   \n",
       "6          89062.90  134426.14      0.00  315981.05         315981.05  2011   \n",
       "8          86362.68   40132.23      0.00  303427.55         303427.55  2011   \n",
       "...             ...        ...       ...        ...               ...   ...   \n",
       "148409         0.00     242.66      0.00     242.66            242.66  2014   \n",
       "148437         0.00     212.39      0.00     212.39            212.39  2014   \n",
       "148506         0.00     134.78      0.00     134.78            134.78  2014   \n",
       "148554         0.00       0.00      0.73      73.33             74.06  2014   \n",
       "148561         0.00      59.59     10.78      59.59             70.37  2014   \n",
       "\n",
       "               Agency  Depart  \n",
       "1       San Francisco  Police  \n",
       "2       San Francisco  Police  \n",
       "4       San Francisco    Fire  \n",
       "6       San Francisco    Fire  \n",
       "8       San Francisco    Fire  \n",
       "...               ...     ...  \n",
       "148409  San Francisco  Police  \n",
       "148437  San Francisco  Police  \n",
       "148506  San Francisco  Police  \n",
       "148554  San Francisco    Fire  \n",
       "148561  San Francisco  Police  \n",
       "\n",
       "[14529 rows x 11 columns]"
      ]
     },
     "execution_count": 74,
     "metadata": {},
     "output_type": "execute_result"
    }
   ],
   "source": [
    "df_with_depart_for_LR = df_with_depart.copy()\n",
    "# df_with_depart_for_LR.loc[df_with_depart_for_LR.Depart=='Police','Depart'] = 0\n",
    "# df_with_depart_for_LR.loc[df_with_depart_for_LR.Depart=='Fire','Depart'] = 1\n",
    "# df_with_depart_for_LR.loc[df_with_depart_for_LR.Depart=='Medicine','Depart'] = 2\n",
    "df_with_depart_for_LR"
   ]
  },
  {
   "cell_type": "code",
   "execution_count": 75,
   "metadata": {},
   "outputs": [],
   "source": [
    "df_with_depart_for_LR_Police = df_with_depart_for_LR[(df_with_depart_for_LR.Depart == 'Police')]\n",
    "df_with_depart_for_LR_Fire = df_with_depart_for_LR[(df_with_depart_for_LR.Depart == 'Fire')]\n",
    "df_with_depart_for_LR_Medicine = df_with_depart_for_LR[(df_with_depart_for_LR.Depart == 'Medicine')]"
   ]
  },
  {
   "cell_type": "markdown",
   "metadata": {},
   "source": [
    "#### Агрегируем данные для их использования в моделях"
   ]
  },
  {
   "cell_type": "code",
   "execution_count": 29,
   "metadata": {},
   "outputs": [],
   "source": [
    "df_with_depart_for_LR_Police = df_with_depart_for_LR_Police.groupby(['Year'])['TotalPayBenefits'].sum().reset_index()\n",
    "df_with_depart_for_LR_Fire = df_with_depart_for_LR_Fire.groupby(['Year'])['TotalPayBenefits'].sum().reset_index()\n",
    "df_with_depart_for_LR_Medicine = df_with_depart_for_LR_Medicine.groupby(['Year'])['TotalPayBenefits'].sum().reset_index()"
   ]
  },
  {
   "cell_type": "markdown",
   "metadata": {},
   "source": [
    "##### Делим данные на фичи и целевую переменную"
   ]
  },
  {
   "cell_type": "code",
   "execution_count": 62,
   "metadata": {},
   "outputs": [],
   "source": [
    "df_with_depart_for_LR_Police\n",
    "feature_police = df_with_depart_for_LR_Police.drop(['TotalPayBenefits'],axis = 1)\n",
    "target_police = df_with_depart_for_LR_Police['TotalPayBenefits']"
   ]
  },
  {
   "cell_type": "code",
   "execution_count": 63,
   "metadata": {},
   "outputs": [
    {
     "name": "stdout",
     "output_type": "stream",
     "text": [
      "X_train (3, 1)\n",
      "X_test (1, 1)\n"
     ]
    }
   ],
   "source": [
    "X_train,X_test,y_train, y_test = train_test_split(feature_police,target_police, shuffle=False, test_size=0.25)\n",
    "print('X_train',X_train.shape)\n",
    "print('X_test',X_test.shape)"
   ]
  },
  {
   "cell_type": "markdown",
   "metadata": {},
   "source": [
    "##### Обучаем модель и делаем предсказание"
   ]
  },
  {
   "cell_type": "code",
   "execution_count": 64,
   "metadata": {},
   "outputs": [],
   "source": [
    "model_lr_police = LinearRegression()\n",
    "model_lr_police.fit(feature_police,target_police)\n",
    "\n",
    "y_predicted_lr_police = model_lr_police.predict(X_test)"
   ]
  },
  {
   "cell_type": "code",
   "execution_count": 65,
   "metadata": {},
   "outputs": [
    {
     "data": {
      "text/plain": [
       "array([2.77098822e+08])"
      ]
     },
     "execution_count": 65,
     "metadata": {},
     "output_type": "execute_result"
    }
   ],
   "source": [
    "y_predicted_lr_police"
   ]
  },
  {
   "cell_type": "code",
   "execution_count": 45,
   "metadata": {},
   "outputs": [
    {
     "data": {
      "text/html": [
       "<div>\n",
       "<style scoped>\n",
       "    .dataframe tbody tr th:only-of-type {\n",
       "        vertical-align: middle;\n",
       "    }\n",
       "\n",
       "    .dataframe tbody tr th {\n",
       "        vertical-align: top;\n",
       "    }\n",
       "\n",
       "    .dataframe thead th {\n",
       "        text-align: right;\n",
       "    }\n",
       "</style>\n",
       "<table border=\"1\" class=\"dataframe\">\n",
       "  <thead>\n",
       "    <tr style=\"text-align: right;\">\n",
       "      <th></th>\n",
       "      <th>Year</th>\n",
       "      <th>TotalPayBenefits</th>\n",
       "    </tr>\n",
       "  </thead>\n",
       "  <tbody>\n",
       "    <tr>\n",
       "      <th>0</th>\n",
       "      <td>2011</td>\n",
       "      <td>3.192681e+08</td>\n",
       "    </tr>\n",
       "    <tr>\n",
       "      <th>1</th>\n",
       "      <td>2012</td>\n",
       "      <td>2.805306e+08</td>\n",
       "    </tr>\n",
       "    <tr>\n",
       "      <th>2</th>\n",
       "      <td>2013</td>\n",
       "      <td>2.887283e+08</td>\n",
       "    </tr>\n",
       "    <tr>\n",
       "      <th>3</th>\n",
       "      <td>2014</td>\n",
       "      <td>2.820115e+08</td>\n",
       "    </tr>\n",
       "  </tbody>\n",
       "</table>\n",
       "</div>"
      ],
      "text/plain": [
       "   Year  TotalPayBenefits\n",
       "0  2011      3.192681e+08\n",
       "1  2012      2.805306e+08\n",
       "2  2013      2.887283e+08\n",
       "3  2014      2.820115e+08"
      ]
     },
     "execution_count": 45,
     "metadata": {},
     "output_type": "execute_result"
    }
   ],
   "source": [
    "df_with_depart_for_LR_Police"
   ]
  },
  {
   "cell_type": "markdown",
   "metadata": {},
   "source": [
    "###### Получаем представление о качестве модели"
   ]
  },
  {
   "cell_type": "code",
   "execution_count": 66,
   "metadata": {},
   "outputs": [
    {
     "name": "stdout",
     "output_type": "stream",
     "text": [
      "RMSE тестовой выборки LinearRegression (Police):  4912706.81599617\n"
     ]
    }
   ],
   "source": [
    "print(\"RMSE тестовой выборки LinearRegression (Police): \",np.sqrt(mean_squared_error(y_test, y_predicted_lr_police)))"
   ]
  },
  {
   "cell_type": "markdown",
   "metadata": {},
   "source": [
    "##### Само предсказание на будущий год"
   ]
  },
  {
   "cell_type": "code",
   "execution_count": 67,
   "metadata": {},
   "outputs": [
    {
     "data": {
      "text/plain": [
       "array([2.66741617e+08])"
      ]
     },
     "execution_count": 67,
     "metadata": {},
     "output_type": "execute_result"
    }
   ],
   "source": [
    "# Предсказание для департамента полиции по суммарному значению поля TotalPayBenefits за 2015 год\n",
    "model_lr_police.predict([[2015]])"
   ]
  },
  {
   "cell_type": "markdown",
   "metadata": {},
   "source": [
    "###### Аналогично делаем и по двум другим департаментам.\n",
    "###### Пожарники:"
   ]
  },
  {
   "cell_type": "code",
   "execution_count": 57,
   "metadata": {},
   "outputs": [
    {
     "name": "stdout",
     "output_type": "stream",
     "text": [
      "X_train (3, 1)\n",
      "X_test (1, 1)\n"
     ]
    }
   ],
   "source": [
    "feature_fire = df_with_depart_for_LR_Fire.drop(['TotalPayBenefits'],axis = 1)\n",
    "target_fire = df_with_depart_for_LR_Fire['TotalPayBenefits']\n",
    "X_train,X_test,y_train, y_test = train_test_split(feature_fire,target_fire, shuffle=False, test_size=0.05)\n",
    "print('X_train',X_train.shape)\n",
    "print('X_test',X_test.shape)"
   ]
  },
  {
   "cell_type": "code",
   "execution_count": 58,
   "metadata": {},
   "outputs": [
    {
     "data": {
      "text/plain": [
       "array([2.46718133e+08])"
      ]
     },
     "execution_count": 58,
     "metadata": {},
     "output_type": "execute_result"
    }
   ],
   "source": [
    "model_lr_fire = LinearRegression()\n",
    "model_lr_fire.fit(feature_fire,target_fire)  # обучаем всеми 4-мя строками и качество модели уже измерить не получится\n",
    "\n",
    "y_predicted_lr_fire = model_lr_fire.predict(X_test)\n",
    "y_predicted_lr_fire"
   ]
  },
  {
   "cell_type": "code",
   "execution_count": 60,
   "metadata": {},
   "outputs": [
    {
     "name": "stdout",
     "output_type": "stream",
     "text": [
      "RMSE тестовой выборки LinearRegression (Fire):  12928842.983998835\n"
     ]
    }
   ],
   "source": [
    "print(\"RMSE тестовой выборки LinearRegression (Fire): \",np.sqrt(mean_squared_error(y_test, y_predicted_lr_fire)))"
   ]
  },
  {
   "cell_type": "code",
   "execution_count": 61,
   "metadata": {},
   "outputs": [
    {
     "data": {
      "text/plain": [
       "array([2.66776463e+08])"
      ]
     },
     "execution_count": 61,
     "metadata": {},
     "output_type": "execute_result"
    }
   ],
   "source": [
    "# Предсказание для департамента пожарных по суммарному значению поля TotalPayBenefits за 2015 год\n",
    "model_lr_fire.predict([[2015]])"
   ]
  },
  {
   "cell_type": "code",
   "execution_count": 54,
   "metadata": {},
   "outputs": [
    {
     "data": {
      "text/html": [
       "<div>\n",
       "<style scoped>\n",
       "    .dataframe tbody tr th:only-of-type {\n",
       "        vertical-align: middle;\n",
       "    }\n",
       "\n",
       "    .dataframe tbody tr th {\n",
       "        vertical-align: top;\n",
       "    }\n",
       "\n",
       "    .dataframe thead th {\n",
       "        text-align: right;\n",
       "    }\n",
       "</style>\n",
       "<table border=\"1\" class=\"dataframe\">\n",
       "  <thead>\n",
       "    <tr style=\"text-align: right;\">\n",
       "      <th></th>\n",
       "      <th>Year</th>\n",
       "      <th>TotalPayBenefits</th>\n",
       "    </tr>\n",
       "  </thead>\n",
       "  <tbody>\n",
       "    <tr>\n",
       "      <th>0</th>\n",
       "      <td>2011</td>\n",
       "      <td>1.720387e+08</td>\n",
       "    </tr>\n",
       "    <tr>\n",
       "      <th>1</th>\n",
       "      <td>2012</td>\n",
       "      <td>2.226816e+08</td>\n",
       "    </tr>\n",
       "    <tr>\n",
       "      <th>2</th>\n",
       "      <td>2013</td>\n",
       "      <td>2.380130e+08</td>\n",
       "    </tr>\n",
       "    <tr>\n",
       "      <th>3</th>\n",
       "      <td>2014</td>\n",
       "      <td>2.337893e+08</td>\n",
       "    </tr>\n",
       "  </tbody>\n",
       "</table>\n",
       "</div>"
      ],
      "text/plain": [
       "   Year  TotalPayBenefits\n",
       "0  2011      1.720387e+08\n",
       "1  2012      2.226816e+08\n",
       "2  2013      2.380130e+08\n",
       "3  2014      2.337893e+08"
      ]
     },
     "execution_count": 54,
     "metadata": {},
     "output_type": "execute_result"
    }
   ],
   "source": [
    "df_with_depart_for_LR_Fire"
   ]
  },
  {
   "cell_type": "markdown",
   "metadata": {},
   "source": [
    "###### Медицинские работники:"
   ]
  },
  {
   "cell_type": "code",
   "execution_count": 68,
   "metadata": {},
   "outputs": [
    {
     "name": "stdout",
     "output_type": "stream",
     "text": [
      "X_train (3, 1)\n",
      "X_test (1, 1)\n"
     ]
    }
   ],
   "source": [
    "feature_medic = df_with_depart_for_LR_Medicine.drop(['TotalPayBenefits'],axis = 1)\n",
    "target_medic = df_with_depart_for_LR_Medicine['TotalPayBenefits']\n",
    "X_train,X_test,y_train, y_test = train_test_split(feature_medic,target_medic, shuffle=False, test_size=0.05)\n",
    "print('X_train',X_train.shape)\n",
    "print('X_test',X_test.shape)"
   ]
  },
  {
   "cell_type": "code",
   "execution_count": 69,
   "metadata": {},
   "outputs": [
    {
     "data": {
      "text/plain": [
       "array([36605262.70499992])"
      ]
     },
     "execution_count": 69,
     "metadata": {},
     "output_type": "execute_result"
    }
   ],
   "source": [
    "model_lr_medic = LinearRegression()\n",
    "model_lr_medic.fit(feature_medic,target_medic)  # обучаем всеми 4-мя строками и качество модели уже измерить не получится\n",
    "\n",
    "y_predicted_lr_medic = model_lr_medic.predict(X_test)\n",
    "y_predicted_lr_medic"
   ]
  },
  {
   "cell_type": "code",
   "execution_count": 73,
   "metadata": {},
   "outputs": [
    {
     "name": "stdout",
     "output_type": "stream",
     "text": [
      "RMSE тестовой выборки LinearRegression (Medicine):  471718.35499989986\n"
     ]
    }
   ],
   "source": [
    "print(\"RMSE тестовой выборки LinearRegression (Medicine): \",np.sqrt(mean_squared_error(y_test, y_predicted_lr_medic)))"
   ]
  },
  {
   "cell_type": "code",
   "execution_count": 71,
   "metadata": {},
   "outputs": [
    {
     "data": {
      "text/plain": [
       "array([39563814.50500011])"
      ]
     },
     "execution_count": 71,
     "metadata": {},
     "output_type": "execute_result"
    }
   ],
   "source": [
    "# Предсказание для медицинского департамента по суммарному значению поля TotalPayBenefits за 2015 год\n",
    "model_lr_medic.predict([[2015]])"
   ]
  },
  {
   "cell_type": "code",
   "execution_count": 72,
   "metadata": {},
   "outputs": [
    {
     "data": {
      "text/html": [
       "<div>\n",
       "<style scoped>\n",
       "    .dataframe tbody tr th:only-of-type {\n",
       "        vertical-align: middle;\n",
       "    }\n",
       "\n",
       "    .dataframe tbody tr th {\n",
       "        vertical-align: top;\n",
       "    }\n",
       "\n",
       "    .dataframe thead th {\n",
       "        text-align: right;\n",
       "    }\n",
       "</style>\n",
       "<table border=\"1\" class=\"dataframe\">\n",
       "  <thead>\n",
       "    <tr style=\"text-align: right;\">\n",
       "      <th></th>\n",
       "      <th>Year</th>\n",
       "      <th>TotalPayBenefits</th>\n",
       "    </tr>\n",
       "  </thead>\n",
       "  <tbody>\n",
       "    <tr>\n",
       "      <th>0</th>\n",
       "      <td>2011</td>\n",
       "      <td>26921486.59</td>\n",
       "    </tr>\n",
       "    <tr>\n",
       "      <th>1</th>\n",
       "      <td>2012</td>\n",
       "      <td>31832682.18</td>\n",
       "    </tr>\n",
       "    <tr>\n",
       "      <th>2</th>\n",
       "      <td>2013</td>\n",
       "      <td>33782026.90</td>\n",
       "    </tr>\n",
       "    <tr>\n",
       "      <th>3</th>\n",
       "      <td>2014</td>\n",
       "      <td>36133544.35</td>\n",
       "    </tr>\n",
       "  </tbody>\n",
       "</table>\n",
       "</div>"
      ],
      "text/plain": [
       "   Year  TotalPayBenefits\n",
       "0  2011       26921486.59\n",
       "1  2012       31832682.18\n",
       "2  2013       33782026.90\n",
       "3  2014       36133544.35"
      ]
     },
     "execution_count": 72,
     "metadata": {},
     "output_type": "execute_result"
    }
   ],
   "source": [
    "df_with_depart_for_LR_Medicine"
   ]
  },
  {
   "cell_type": "markdown",
   "metadata": {},
   "source": [
    "#### Создадим агрегированный DF с нужным нам фичами для более качественной модели предсказаний \n",
    "(она позволит делать более точные предсказания в том случае, если мы подставим значения всех фич на будущий период)"
   ]
  },
  {
   "cell_type": "code",
   "execution_count": 32,
   "metadata": {},
   "outputs": [
    {
     "data": {
      "text/html": [
       "<div>\n",
       "<style scoped>\n",
       "    .dataframe tbody tr th:only-of-type {\n",
       "        vertical-align: middle;\n",
       "    }\n",
       "\n",
       "    .dataframe tbody tr th {\n",
       "        vertical-align: top;\n",
       "    }\n",
       "\n",
       "    .dataframe thead th {\n",
       "        text-align: right;\n",
       "    }\n",
       "</style>\n",
       "<table border=\"1\" class=\"dataframe\">\n",
       "  <thead>\n",
       "    <tr style=\"text-align: right;\">\n",
       "      <th></th>\n",
       "      <th>Year</th>\n",
       "      <th>Depart</th>\n",
       "      <th>TotalPayBenefits</th>\n",
       "      <th>BasePay</th>\n",
       "      <th>OvertimePay</th>\n",
       "      <th>Benefits</th>\n",
       "      <th>Count</th>\n",
       "    </tr>\n",
       "  </thead>\n",
       "  <tbody>\n",
       "    <tr>\n",
       "      <th>0</th>\n",
       "      <td>2011</td>\n",
       "      <td>Fire</td>\n",
       "      <td>1.720387e+08</td>\n",
       "      <td>105934.670</td>\n",
       "      <td>17700.920</td>\n",
       "      <td>0.00</td>\n",
       "      <td>1151</td>\n",
       "    </tr>\n",
       "    <tr>\n",
       "      <th>1</th>\n",
       "      <td>2011</td>\n",
       "      <td>Medicine</td>\n",
       "      <td>2.692149e+07</td>\n",
       "      <td>53822.610</td>\n",
       "      <td>0.000</td>\n",
       "      <td>0.00</td>\n",
       "      <td>431</td>\n",
       "    </tr>\n",
       "    <tr>\n",
       "      <th>2</th>\n",
       "      <td>2011</td>\n",
       "      <td>Police</td>\n",
       "      <td>3.192681e+08</td>\n",
       "      <td>111976.140</td>\n",
       "      <td>6376.980</td>\n",
       "      <td>0.00</td>\n",
       "      <td>2512</td>\n",
       "    </tr>\n",
       "    <tr>\n",
       "      <th>3</th>\n",
       "      <td>2012</td>\n",
       "      <td>Fire</td>\n",
       "      <td>2.226816e+08</td>\n",
       "      <td>110847.100</td>\n",
       "      <td>23514.830</td>\n",
       "      <td>38913.21</td>\n",
       "      <td>1135</td>\n",
       "    </tr>\n",
       "    <tr>\n",
       "      <th>4</th>\n",
       "      <td>2012</td>\n",
       "      <td>Medicine</td>\n",
       "      <td>3.183268e+07</td>\n",
       "      <td>56968.710</td>\n",
       "      <td>0.000</td>\n",
       "      <td>28246.99</td>\n",
       "      <td>393</td>\n",
       "    </tr>\n",
       "    <tr>\n",
       "      <th>5</th>\n",
       "      <td>2012</td>\n",
       "      <td>Police</td>\n",
       "      <td>2.805306e+08</td>\n",
       "      <td>111549.690</td>\n",
       "      <td>8882.630</td>\n",
       "      <td>33605.77</td>\n",
       "      <td>1919</td>\n",
       "    </tr>\n",
       "    <tr>\n",
       "      <th>6</th>\n",
       "      <td>2013</td>\n",
       "      <td>Fire</td>\n",
       "      <td>2.380130e+08</td>\n",
       "      <td>116956.710</td>\n",
       "      <td>26098.545</td>\n",
       "      <td>41299.88</td>\n",
       "      <td>1158</td>\n",
       "    </tr>\n",
       "    <tr>\n",
       "      <th>7</th>\n",
       "      <td>2013</td>\n",
       "      <td>Medicine</td>\n",
       "      <td>3.378203e+07</td>\n",
       "      <td>59834.000</td>\n",
       "      <td>0.000</td>\n",
       "      <td>25758.71</td>\n",
       "      <td>425</td>\n",
       "    </tr>\n",
       "    <tr>\n",
       "      <th>8</th>\n",
       "      <td>2013</td>\n",
       "      <td>Police</td>\n",
       "      <td>2.887283e+08</td>\n",
       "      <td>118283.650</td>\n",
       "      <td>7893.280</td>\n",
       "      <td>36355.96</td>\n",
       "      <td>1869</td>\n",
       "    </tr>\n",
       "    <tr>\n",
       "      <th>9</th>\n",
       "      <td>2014</td>\n",
       "      <td>Fire</td>\n",
       "      <td>2.337893e+08</td>\n",
       "      <td>112703.730</td>\n",
       "      <td>21876.690</td>\n",
       "      <td>43289.50</td>\n",
       "      <td>1197</td>\n",
       "    </tr>\n",
       "    <tr>\n",
       "      <th>10</th>\n",
       "      <td>2014</td>\n",
       "      <td>Medicine</td>\n",
       "      <td>3.613354e+07</td>\n",
       "      <td>60364.975</td>\n",
       "      <td>0.000</td>\n",
       "      <td>27263.87</td>\n",
       "      <td>438</td>\n",
       "    </tr>\n",
       "    <tr>\n",
       "      <th>11</th>\n",
       "      <td>2014</td>\n",
       "      <td>Police</td>\n",
       "      <td>2.820115e+08</td>\n",
       "      <td>112164.030</td>\n",
       "      <td>8544.040</td>\n",
       "      <td>37559.47</td>\n",
       "      <td>1901</td>\n",
       "    </tr>\n",
       "  </tbody>\n",
       "</table>\n",
       "</div>"
      ],
      "text/plain": [
       "    Year    Depart  TotalPayBenefits     BasePay  OvertimePay  Benefits  Count\n",
       "0   2011      Fire      1.720387e+08  105934.670    17700.920      0.00   1151\n",
       "1   2011  Medicine      2.692149e+07   53822.610        0.000      0.00    431\n",
       "2   2011    Police      3.192681e+08  111976.140     6376.980      0.00   2512\n",
       "3   2012      Fire      2.226816e+08  110847.100    23514.830  38913.21   1135\n",
       "4   2012  Medicine      3.183268e+07   56968.710        0.000  28246.99    393\n",
       "5   2012    Police      2.805306e+08  111549.690     8882.630  33605.77   1919\n",
       "6   2013      Fire      2.380130e+08  116956.710    26098.545  41299.88   1158\n",
       "7   2013  Medicine      3.378203e+07   59834.000        0.000  25758.71    425\n",
       "8   2013    Police      2.887283e+08  118283.650     7893.280  36355.96   1869\n",
       "9   2014      Fire      2.337893e+08  112703.730    21876.690  43289.50   1197\n",
       "10  2014  Medicine      3.613354e+07   60364.975        0.000  27263.87    438\n",
       "11  2014    Police      2.820115e+08  112164.030     8544.040  37559.47   1901"
      ]
     },
     "execution_count": 32,
     "metadata": {},
     "output_type": "execute_result"
    }
   ],
   "source": [
    "Total_Base = pd.merge(df_TotalPay,df_median_BasePay, left_on=['Year','Depart'], right_on=['Year','Depart'])\n",
    "Total_Base_Over = pd.merge(Total_Base,df_median_OvertimePay, left_on=['Year','Depart'], right_on=['Year','Depart'])\n",
    "Total_Base_Over_Ben = pd.merge(Total_Base_Over,df_median_Benefits, left_on=['Year','Depart'], right_on=['Year','Depart'])\n",
    "Total_Base_Over_Ben_Cnt = pd.merge(Total_Base_Over_Ben,df_count_people, left_on=['Year','Depart'], right_on=['Year','Depart'])\n",
    "Total_Base_Over_Ben_Cnt"
   ]
  },
  {
   "cell_type": "markdown",
   "metadata": {},
   "source": [
    "#### Переведём название департамента в цифровой вид"
   ]
  },
  {
   "cell_type": "code",
   "execution_count": 33,
   "metadata": {},
   "outputs": [],
   "source": [
    "Total_Base_Over_Ben_Cnt.loc[Total_Base_Over_Ben_Cnt.Depart=='Police','Depart'] = 0\n",
    "Total_Base_Over_Ben_Cnt.loc[Total_Base_Over_Ben_Cnt.Depart=='Fire','Depart'] = 1\n",
    "Total_Base_Over_Ben_Cnt.loc[Total_Base_Over_Ben_Cnt.Depart=='Medicine','Depart'] = 2"
   ]
  },
  {
   "cell_type": "code",
   "execution_count": 34,
   "metadata": {},
   "outputs": [
    {
     "data": {
      "text/html": [
       "<div>\n",
       "<style scoped>\n",
       "    .dataframe tbody tr th:only-of-type {\n",
       "        vertical-align: middle;\n",
       "    }\n",
       "\n",
       "    .dataframe tbody tr th {\n",
       "        vertical-align: top;\n",
       "    }\n",
       "\n",
       "    .dataframe thead th {\n",
       "        text-align: right;\n",
       "    }\n",
       "</style>\n",
       "<table border=\"1\" class=\"dataframe\">\n",
       "  <thead>\n",
       "    <tr style=\"text-align: right;\">\n",
       "      <th></th>\n",
       "      <th>Year</th>\n",
       "      <th>Depart</th>\n",
       "      <th>TotalPayBenefits</th>\n",
       "      <th>BasePay</th>\n",
       "      <th>OvertimePay</th>\n",
       "      <th>Benefits</th>\n",
       "      <th>Count</th>\n",
       "    </tr>\n",
       "  </thead>\n",
       "  <tbody>\n",
       "    <tr>\n",
       "      <th>0</th>\n",
       "      <td>2011</td>\n",
       "      <td>1</td>\n",
       "      <td>1.720387e+08</td>\n",
       "      <td>105934.670</td>\n",
       "      <td>17700.920</td>\n",
       "      <td>0.00</td>\n",
       "      <td>1151</td>\n",
       "    </tr>\n",
       "    <tr>\n",
       "      <th>1</th>\n",
       "      <td>2011</td>\n",
       "      <td>2</td>\n",
       "      <td>2.692149e+07</td>\n",
       "      <td>53822.610</td>\n",
       "      <td>0.000</td>\n",
       "      <td>0.00</td>\n",
       "      <td>431</td>\n",
       "    </tr>\n",
       "    <tr>\n",
       "      <th>2</th>\n",
       "      <td>2011</td>\n",
       "      <td>0</td>\n",
       "      <td>3.192681e+08</td>\n",
       "      <td>111976.140</td>\n",
       "      <td>6376.980</td>\n",
       "      <td>0.00</td>\n",
       "      <td>2512</td>\n",
       "    </tr>\n",
       "    <tr>\n",
       "      <th>3</th>\n",
       "      <td>2012</td>\n",
       "      <td>1</td>\n",
       "      <td>2.226816e+08</td>\n",
       "      <td>110847.100</td>\n",
       "      <td>23514.830</td>\n",
       "      <td>38913.21</td>\n",
       "      <td>1135</td>\n",
       "    </tr>\n",
       "    <tr>\n",
       "      <th>4</th>\n",
       "      <td>2012</td>\n",
       "      <td>2</td>\n",
       "      <td>3.183268e+07</td>\n",
       "      <td>56968.710</td>\n",
       "      <td>0.000</td>\n",
       "      <td>28246.99</td>\n",
       "      <td>393</td>\n",
       "    </tr>\n",
       "    <tr>\n",
       "      <th>5</th>\n",
       "      <td>2012</td>\n",
       "      <td>0</td>\n",
       "      <td>2.805306e+08</td>\n",
       "      <td>111549.690</td>\n",
       "      <td>8882.630</td>\n",
       "      <td>33605.77</td>\n",
       "      <td>1919</td>\n",
       "    </tr>\n",
       "    <tr>\n",
       "      <th>6</th>\n",
       "      <td>2013</td>\n",
       "      <td>1</td>\n",
       "      <td>2.380130e+08</td>\n",
       "      <td>116956.710</td>\n",
       "      <td>26098.545</td>\n",
       "      <td>41299.88</td>\n",
       "      <td>1158</td>\n",
       "    </tr>\n",
       "    <tr>\n",
       "      <th>7</th>\n",
       "      <td>2013</td>\n",
       "      <td>2</td>\n",
       "      <td>3.378203e+07</td>\n",
       "      <td>59834.000</td>\n",
       "      <td>0.000</td>\n",
       "      <td>25758.71</td>\n",
       "      <td>425</td>\n",
       "    </tr>\n",
       "    <tr>\n",
       "      <th>8</th>\n",
       "      <td>2013</td>\n",
       "      <td>0</td>\n",
       "      <td>2.887283e+08</td>\n",
       "      <td>118283.650</td>\n",
       "      <td>7893.280</td>\n",
       "      <td>36355.96</td>\n",
       "      <td>1869</td>\n",
       "    </tr>\n",
       "    <tr>\n",
       "      <th>9</th>\n",
       "      <td>2014</td>\n",
       "      <td>1</td>\n",
       "      <td>2.337893e+08</td>\n",
       "      <td>112703.730</td>\n",
       "      <td>21876.690</td>\n",
       "      <td>43289.50</td>\n",
       "      <td>1197</td>\n",
       "    </tr>\n",
       "    <tr>\n",
       "      <th>10</th>\n",
       "      <td>2014</td>\n",
       "      <td>2</td>\n",
       "      <td>3.613354e+07</td>\n",
       "      <td>60364.975</td>\n",
       "      <td>0.000</td>\n",
       "      <td>27263.87</td>\n",
       "      <td>438</td>\n",
       "    </tr>\n",
       "    <tr>\n",
       "      <th>11</th>\n",
       "      <td>2014</td>\n",
       "      <td>0</td>\n",
       "      <td>2.820115e+08</td>\n",
       "      <td>112164.030</td>\n",
       "      <td>8544.040</td>\n",
       "      <td>37559.47</td>\n",
       "      <td>1901</td>\n",
       "    </tr>\n",
       "  </tbody>\n",
       "</table>\n",
       "</div>"
      ],
      "text/plain": [
       "    Year Depart  TotalPayBenefits     BasePay  OvertimePay  Benefits  Count\n",
       "0   2011      1      1.720387e+08  105934.670    17700.920      0.00   1151\n",
       "1   2011      2      2.692149e+07   53822.610        0.000      0.00    431\n",
       "2   2011      0      3.192681e+08  111976.140     6376.980      0.00   2512\n",
       "3   2012      1      2.226816e+08  110847.100    23514.830  38913.21   1135\n",
       "4   2012      2      3.183268e+07   56968.710        0.000  28246.99    393\n",
       "5   2012      0      2.805306e+08  111549.690     8882.630  33605.77   1919\n",
       "6   2013      1      2.380130e+08  116956.710    26098.545  41299.88   1158\n",
       "7   2013      2      3.378203e+07   59834.000        0.000  25758.71    425\n",
       "8   2013      0      2.887283e+08  118283.650     7893.280  36355.96   1869\n",
       "9   2014      1      2.337893e+08  112703.730    21876.690  43289.50   1197\n",
       "10  2014      2      3.613354e+07   60364.975        0.000  27263.87    438\n",
       "11  2014      0      2.820115e+08  112164.030     8544.040  37559.47   1901"
      ]
     },
     "execution_count": 34,
     "metadata": {},
     "output_type": "execute_result"
    }
   ],
   "source": [
    "Total_Base_Over_Ben_Cnt\n",
    "features = Total_Base_Over_Ben_Cnt.drop(['TotalPayBenefits'],axis = 1)\n",
    "target = Total_Base_Over_Ben_Cnt['TotalPayBenefits']"
   ]
  },
  {
   "cell_type": "markdown",
   "metadata": {},
   "source": [
    "#### Разбиваем данные на обучающую и тестовую выборки"
   ]
  },
  {
   "cell_type": "code",
   "execution_count": 36,
   "metadata": {},
   "outputs": [
    {
     "name": "stdout",
     "output_type": "stream",
     "text": [
      "X_train (9, 6)\n",
      "X_test (3, 6)\n"
     ]
    }
   ],
   "source": [
    "X_train,X_test,y_train, y_test = train_test_split(features,target, shuffle=False, test_size=0.25)\n",
    "print('X_train',X_train.shape)\n",
    "print('X_test',X_test.shape)"
   ]
  },
  {
   "cell_type": "code",
   "execution_count": 47,
   "metadata": {},
   "outputs": [
    {
     "data": {
      "text/html": [
       "<div>\n",
       "<style scoped>\n",
       "    .dataframe tbody tr th:only-of-type {\n",
       "        vertical-align: middle;\n",
       "    }\n",
       "\n",
       "    .dataframe tbody tr th {\n",
       "        vertical-align: top;\n",
       "    }\n",
       "\n",
       "    .dataframe thead th {\n",
       "        text-align: right;\n",
       "    }\n",
       "</style>\n",
       "<table border=\"1\" class=\"dataframe\">\n",
       "  <thead>\n",
       "    <tr style=\"text-align: right;\">\n",
       "      <th></th>\n",
       "      <th>Year</th>\n",
       "      <th>Depart</th>\n",
       "      <th>BasePay</th>\n",
       "      <th>OvertimePay</th>\n",
       "      <th>Benefits</th>\n",
       "      <th>Count</th>\n",
       "    </tr>\n",
       "  </thead>\n",
       "  <tbody>\n",
       "    <tr>\n",
       "      <th>0</th>\n",
       "      <td>2011</td>\n",
       "      <td>1</td>\n",
       "      <td>105934.67</td>\n",
       "      <td>17700.920</td>\n",
       "      <td>0.00</td>\n",
       "      <td>1151</td>\n",
       "    </tr>\n",
       "    <tr>\n",
       "      <th>1</th>\n",
       "      <td>2011</td>\n",
       "      <td>2</td>\n",
       "      <td>53822.61</td>\n",
       "      <td>0.000</td>\n",
       "      <td>0.00</td>\n",
       "      <td>431</td>\n",
       "    </tr>\n",
       "    <tr>\n",
       "      <th>2</th>\n",
       "      <td>2011</td>\n",
       "      <td>0</td>\n",
       "      <td>111976.14</td>\n",
       "      <td>6376.980</td>\n",
       "      <td>0.00</td>\n",
       "      <td>2512</td>\n",
       "    </tr>\n",
       "    <tr>\n",
       "      <th>3</th>\n",
       "      <td>2012</td>\n",
       "      <td>1</td>\n",
       "      <td>110847.10</td>\n",
       "      <td>23514.830</td>\n",
       "      <td>38913.21</td>\n",
       "      <td>1135</td>\n",
       "    </tr>\n",
       "    <tr>\n",
       "      <th>4</th>\n",
       "      <td>2012</td>\n",
       "      <td>2</td>\n",
       "      <td>56968.71</td>\n",
       "      <td>0.000</td>\n",
       "      <td>28246.99</td>\n",
       "      <td>393</td>\n",
       "    </tr>\n",
       "    <tr>\n",
       "      <th>5</th>\n",
       "      <td>2012</td>\n",
       "      <td>0</td>\n",
       "      <td>111549.69</td>\n",
       "      <td>8882.630</td>\n",
       "      <td>33605.77</td>\n",
       "      <td>1919</td>\n",
       "    </tr>\n",
       "    <tr>\n",
       "      <th>6</th>\n",
       "      <td>2013</td>\n",
       "      <td>1</td>\n",
       "      <td>116956.71</td>\n",
       "      <td>26098.545</td>\n",
       "      <td>41299.88</td>\n",
       "      <td>1158</td>\n",
       "    </tr>\n",
       "    <tr>\n",
       "      <th>7</th>\n",
       "      <td>2013</td>\n",
       "      <td>2</td>\n",
       "      <td>59834.00</td>\n",
       "      <td>0.000</td>\n",
       "      <td>25758.71</td>\n",
       "      <td>425</td>\n",
       "    </tr>\n",
       "    <tr>\n",
       "      <th>8</th>\n",
       "      <td>2013</td>\n",
       "      <td>0</td>\n",
       "      <td>118283.65</td>\n",
       "      <td>7893.280</td>\n",
       "      <td>36355.96</td>\n",
       "      <td>1869</td>\n",
       "    </tr>\n",
       "  </tbody>\n",
       "</table>\n",
       "</div>"
      ],
      "text/plain": [
       "   Year Depart    BasePay  OvertimePay  Benefits  Count\n",
       "0  2011      1  105934.67    17700.920      0.00   1151\n",
       "1  2011      2   53822.61        0.000      0.00    431\n",
       "2  2011      0  111976.14     6376.980      0.00   2512\n",
       "3  2012      1  110847.10    23514.830  38913.21   1135\n",
       "4  2012      2   56968.71        0.000  28246.99    393\n",
       "5  2012      0  111549.69     8882.630  33605.77   1919\n",
       "6  2013      1  116956.71    26098.545  41299.88   1158\n",
       "7  2013      2   59834.00        0.000  25758.71    425\n",
       "8  2013      0  118283.65     7893.280  36355.96   1869"
      ]
     },
     "execution_count": 47,
     "metadata": {},
     "output_type": "execute_result"
    }
   ],
   "source": [
    "X_train"
   ]
  },
  {
   "cell_type": "markdown",
   "metadata": {},
   "source": [
    "#### Строим модель и оцениваем качество"
   ]
  },
  {
   "cell_type": "code",
   "execution_count": 37,
   "metadata": {},
   "outputs": [],
   "source": [
    "model_lr = LinearRegression()\n",
    "model_lr.fit(X_train,y_train)\n",
    "\n",
    "y_predicted_lr = model_lr.predict(X_test)"
   ]
  },
  {
   "cell_type": "code",
   "execution_count": 38,
   "metadata": {},
   "outputs": [
    {
     "data": {
      "text/plain": [
       "array([2.32579527e+08, 4.61336596e+07, 2.94839178e+08])"
      ]
     },
     "execution_count": 38,
     "metadata": {},
     "output_type": "execute_result"
    }
   ],
   "source": [
    "y_predicted_lr"
   ]
  },
  {
   "cell_type": "code",
   "execution_count": 39,
   "metadata": {},
   "outputs": [
    {
     "name": "stdout",
     "output_type": "stream",
     "text": [
      "RMSE тестовой выборки LinearRegression:  9416553.109474283\n"
     ]
    }
   ],
   "source": [
    "print(\"RMSE тестовой выборки LinearRegression: \",np.sqrt(mean_squared_error(y_test, y_predicted_lr)))"
   ]
  },
  {
   "cell_type": "code",
   "execution_count": 40,
   "metadata": {},
   "outputs": [
    {
     "data": {
      "text/plain": [
       "{'copy_X': True, 'fit_intercept': True, 'n_jobs': None, 'normalize': False}"
      ]
     },
     "execution_count": 40,
     "metadata": {},
     "output_type": "execute_result"
    }
   ],
   "source": [
    "model_lr.get_params()"
   ]
  },
  {
   "cell_type": "code",
   "execution_count": 54,
   "metadata": {
    "scrolled": true
   },
   "outputs": [
    {
     "name": "stdout",
     "output_type": "stream",
     "text": [
      "coefficient of determination: 1.0\n"
     ]
    }
   ],
   "source": [
    "r_sq = model_lr.score(X_test, y_predicted_lr)\n",
    "print('coefficient of determination:', r_sq)"
   ]
  },
  {
   "cell_type": "code",
   "execution_count": 46,
   "metadata": {},
   "outputs": [
    {
     "name": "stdout",
     "output_type": "stream",
     "text": [
      "intercept: -9202396153.843925\n"
     ]
    }
   ],
   "source": [
    "print('Первый коэффициент', model_lr.intercept_)"
   ]
  },
  {
   "cell_type": "code",
   "execution_count": 45,
   "metadata": {},
   "outputs": [
    {
     "name": "stdout",
     "output_type": "stream",
     "text": [
      "slope: [ 4.60562632e+06 -3.56331861e+07 -2.98026165e+02  3.46945162e+03\n",
      "  5.45270924e+02  1.07737249e+05]\n"
     ]
    }
   ],
   "source": [
    "print('Прочие коэффициенты:', model_lr.coef_)"
   ]
  },
  {
   "cell_type": "markdown",
   "metadata": {},
   "source": [
    "Т.е. если у нас много разных фич, то для предсказания нам их нужно будет задать."
   ]
  },
  {
   "cell_type": "markdown",
   "metadata": {},
   "source": [
    "##### Код для справки..."
   ]
  },
  {
   "cell_type": "raw",
   "metadata": {},
   "source": [
    "df = df[['<DATE>','<CLOSE>']]\n",
    "df.columns = ['ds','y']\n",
    "\n",
    "df.set_index('ds', inplace=True)\n",
    "df.sort_index(inplace=True)\n",
    "print('Монотонность - ',df.index.is_monotonic)\n",
    "\n",
    "from sklearn.model_selection import train_test_split\n",
    "\n",
    "features = df.drop(['y'],axis = 1)\n",
    "target = df['y']\n",
    "X_train,X_test,y_train, y_test = train_test_split(features,target, shuffle=False, test_size=0.1)\n",
    "print('X_train',X_train.shape)\n",
    "print('X_test',X_test.shape)\n",
    "\n",
    "from sklearn.linear_model import LinearRegression\n",
    "\n",
    "model_lr = LinearRegression()\n",
    "model_lr.fit(X_train,y_train)\n",
    "\n",
    "y_predicted_lr = model_lr.predict(X_test)\n",
    "\n",
    "from sklearn.metrics import mean_squared_error\n",
    "from math import sqrt\n",
    "\n",
    "print(\"RMSE тестовой выборки LinearRegression: \",np.sqrt(mean_squared_error(y_test, y_predicted_lr)))\n"
   ]
  },
  {
   "cell_type": "raw",
   "metadata": {},
   "source": [
    "plt.figure(figsize=(20, 9))\n",
    "plt.plot(y_predicted_lr, \"r\",linewidth=5, label=\"LinearRegression\")\n",
    "plt.plot(y_test.values,'b' ,label=\"actual\", linewidth=5, alpha = 0.5)\n",
    "plt.legend(loc=\"best\")\n",
    "plt.title(\"Оценка моделей\")\n",
    "plt.grid(True);"
   ]
  },
  {
   "cell_type": "markdown",
   "metadata": {},
   "source": [
    "Количество людей с разным уровнем дохода.\n",
    "\n",
    "Поскольку график имеет по шкале x имеет максимальное значение в 500000, то, \n",
    "чтобы показать количество сотрудников с оплатой в интервалах по 5000, нужно иметь 100 бинов."
   ]
  },
  {
   "cell_type": "code",
   "execution_count": 59,
   "metadata": {},
   "outputs": [
    {
     "name": "stderr",
     "output_type": "stream",
     "text": [
      "C:\\ProgramData\\Anaconda3\\lib\\site-packages\\pandas\\core\\indexing.py:1765: SettingWithCopyWarning: \n",
      "A value is trying to be set on a copy of a slice from a DataFrame.\n",
      "Try using .loc[row_indexer,col_indexer] = value instead\n",
      "\n",
      "See the caveats in the documentation: https://pandas.pydata.org/pandas-docs/stable/user_guide/indexing.html#returning-a-view-versus-a-copy\n",
      "  isetter(loc, value)\n"
     ]
    }
   ],
   "source": [
    "\n",
    "# сокращаем количество разночтений по департаментам\n",
    "# df_with_depart.loc[df_with_depart['Depart']=='Civil/Criminal','Depart'] = 'Civil & Criminal'\n",
    "# df_with_depart.loc[df_with_depart['Depart']=='CIVIL/CRIMINAL','Depart'] = 'Civil & Criminal'\n",
    "# df_with_depart.loc[df_with_depart['Depart']=='CIVIL & CRIMINAL','Depart'] = 'Civil & Criminal'\n",
    "# df_with_depart.loc[df_with_depart['Depart']=='Cvl&Crmnl','Depart'] = 'Civil & Criminal'\n",
    "# df_with_depart.loc[df_with_depart['Depart']=='POLICE DEPARTMENT','Depart'] = 'Police Department'\n",
    "# df_with_depart.loc[df_with_depart['Depart']=='FIRE DEPARTMENT','Depart'] = 'Fire Department'\n",
    "# df_with_depart.loc[df_with_depart['Depart']=='Fire Dept','Depart'] = 'Fire Department'\n",
    "# df_with_depart.loc[df_with_depart['Depart']=='SEASONAL','Depart'] = 'Seasonal'"
   ]
  }
 ],
 "metadata": {
  "kernelspec": {
   "display_name": "Python 3",
   "language": "python",
   "name": "python3"
  },
  "language_info": {
   "codemirror_mode": {
    "name": "ipython",
    "version": 3
   },
   "file_extension": ".py",
   "mimetype": "text/x-python",
   "name": "python",
   "nbconvert_exporter": "python",
   "pygments_lexer": "ipython3",
   "version": "3.8.5"
  }
 },
 "nbformat": 4,
 "nbformat_minor": 4
}
